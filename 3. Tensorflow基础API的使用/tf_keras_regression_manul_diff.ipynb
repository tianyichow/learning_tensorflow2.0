{
 "cells": [
  {
   "cell_type": "code",
   "execution_count": 2,
   "metadata": {},
   "outputs": [
    {
     "name": "stdout",
     "output_type": "stream",
     "text": [
      "2.0.0-beta1\n",
      "sys.version_info(major=3, minor=6, micro=8, releaselevel='final', serial=0)\n",
      "matplotlib 3.1.1\n",
      "numpy 1.16.4\n",
      "pandas 0.24.2\n",
      "sklearn 0.21.2\n",
      "tensorflow 2.0.0-beta1\n",
      "tensorflow.python.keras.api._v2.keras 2.2.4-tf\n"
     ]
    }
   ],
   "source": [
    "import matplotlib as mpl\n",
    "import matplotlib.pyplot as plt\n",
    "%matplotlib inline\n",
    "import numpy as np\n",
    "import pandas as pd\n",
    "import sklearn\n",
    "import os\n",
    "import sys\n",
    "import time\n",
    "import tensorflow as tf\n",
    "from tensorflow import keras\n",
    "\n",
    "print (tf.__version__)\n",
    "print (sys.version_info)\n",
    "for module in mpl, np, pd, sklearn, tf, keras:\n",
    "    print (module.__name__, module.__version__)"
   ]
  },
  {
   "cell_type": "code",
   "execution_count": 3,
   "metadata": {},
   "outputs": [
    {
     "name": "stdout",
     "output_type": "stream",
     "text": [
      ".. _california_housing_dataset:\n",
      "\n",
      "California Housing dataset\n",
      "--------------------------\n",
      "\n",
      "**Data Set Characteristics:**\n",
      "\n",
      "    :Number of Instances: 20640\n",
      "\n",
      "    :Number of Attributes: 8 numeric, predictive attributes and the target\n",
      "\n",
      "    :Attribute Information:\n",
      "        - MedInc        median income in block\n",
      "        - HouseAge      median house age in block\n",
      "        - AveRooms      average number of rooms\n",
      "        - AveBedrms     average number of bedrooms\n",
      "        - Population    block population\n",
      "        - AveOccup      average house occupancy\n",
      "        - Latitude      house block latitude\n",
      "        - Longitude     house block longitude\n",
      "\n",
      "    :Missing Attribute Values: None\n",
      "\n",
      "This dataset was obtained from the StatLib repository.\n",
      "http://lib.stat.cmu.edu/datasets/\n",
      "\n",
      "The target variable is the median house value for California districts.\n",
      "\n",
      "This dataset was derived from the 1990 U.S. census, using one row per census\n",
      "block group. A block group is the smallest geographical unit for which the U.S.\n",
      "Census Bureau publishes sample data (a block group typically has a population\n",
      "of 600 to 3,000 people).\n",
      "\n",
      "It can be downloaded/loaded using the\n",
      ":func:`sklearn.datasets.fetch_california_housing` function.\n",
      "\n",
      ".. topic:: References\n",
      "\n",
      "    - Pace, R. Kelley and Ronald Barry, Sparse Spatial Autoregressions,\n",
      "      Statistics and Probability Letters, 33 (1997) 291-297\n",
      "\n",
      "(20640, 8)\n",
      "(20640,)\n"
     ]
    }
   ],
   "source": [
    "from sklearn.datasets import fetch_california_housing\n",
    "\n",
    "housing = fetch_california_housing()\n",
    "print (housing.DESCR)\n",
    "print (housing.data.shape)\n",
    "print (housing.target.shape)"
   ]
  },
  {
   "cell_type": "code",
   "execution_count": 4,
   "metadata": {},
   "outputs": [
    {
     "name": "stdout",
     "output_type": "stream",
     "text": [
      "array([[ 8.32520000e+00,  4.10000000e+01,  6.98412698e+00,\n",
      "         1.02380952e+00,  3.22000000e+02,  2.55555556e+00,\n",
      "         3.78800000e+01, -1.22230000e+02],\n",
      "       [ 8.30140000e+00,  2.10000000e+01,  6.23813708e+00,\n",
      "         9.71880492e-01,  2.40100000e+03,  2.10984183e+00,\n",
      "         3.78600000e+01, -1.22220000e+02],\n",
      "       [ 7.25740000e+00,  5.20000000e+01,  8.28813559e+00,\n",
      "         1.07344633e+00,  4.96000000e+02,  2.80225989e+00,\n",
      "         3.78500000e+01, -1.22240000e+02],\n",
      "       [ 5.64310000e+00,  5.20000000e+01,  5.81735160e+00,\n",
      "         1.07305936e+00,  5.58000000e+02,  2.54794521e+00,\n",
      "         3.78500000e+01, -1.22250000e+02],\n",
      "       [ 3.84620000e+00,  5.20000000e+01,  6.28185328e+00,\n",
      "         1.08108108e+00,  5.65000000e+02,  2.18146718e+00,\n",
      "         3.78500000e+01, -1.22250000e+02]])\n",
      "array([4.526, 3.585, 3.521, 3.413, 3.422])\n"
     ]
    }
   ],
   "source": [
    "import pprint\n",
    "pprint.pprint (housing.data[0:5])\n",
    "pprint.pprint(housing.target[0:5])"
   ]
  },
  {
   "cell_type": "code",
   "execution_count": 5,
   "metadata": {},
   "outputs": [
    {
     "name": "stdout",
     "output_type": "stream",
     "text": [
      "(11610, 8) (11610,)\n",
      "(3870, 8) (3870,)\n",
      "(5160, 8) (5160,)\n"
     ]
    }
   ],
   "source": [
    "from sklearn.model_selection import train_test_split\n",
    "\n",
    "x_train_all, x_test, y_train_all, y_test = train_test_split(\n",
    "    housing.data, housing.target, random_state = 7, test_size=0.25)\n",
    "x_train, x_valid, y_train, y_valid = train_test_split(\n",
    "    x_train_all, y_train_all, random_state=11, test_size = 0.25)\n",
    "\n",
    "print (x_train.shape, y_train.shape)\n",
    "print (x_valid.shape, y_valid.shape)\n",
    "print (x_test.shape, y_test.shape)"
   ]
  },
  {
   "cell_type": "code",
   "execution_count": 6,
   "metadata": {},
   "outputs": [],
   "source": [
    "from sklearn.preprocessing import StandardScaler\n",
    "scaler = StandardScaler()\n",
    "x_train_scaled = scaler.fit_transform(x_train)  #这里使用fit_transform函数，因为在训练集上获得均值和方差，在验证集和测试集上面使用\n",
    "x_valid_scaled = scaler.transform(x_valid)\n",
    "x_test_scaled = scaler.transform(x_test)"
   ]
  },
  {
   "cell_type": "code",
   "execution_count": 11,
   "metadata": {},
   "outputs": [
    {
     "name": "stdout",
     "output_type": "stream",
     "text": [
      "tf.Tensor(9.0, shape=(), dtype=float32)\n",
      "tf.Tensor(5.0, shape=(), dtype=float32)\n",
      "tf.Tensor(5.0, shape=(), dtype=float32)\n",
      "tf.Tensor(4.0, shape=(), dtype=float32)\n"
     ]
    }
   ],
   "source": [
    "# metric \n",
    "\n",
    "metric = keras.metrics.MeanSquaredError()\n",
    "print(metric([5.],[2.]))\n",
    "print (metric([0.],[1.]))  ## 累加，第一个9 第二个1 ，平均后是5\n",
    "print (metric.result())\n",
    "\n",
    "metric.reset_states()\n",
    "metric([1.],[3.])\n",
    "print (metric.result())\n"
   ]
  },
  {
   "cell_type": "code",
   "execution_count": 13,
   "metadata": {},
   "outputs": [
    {
     "name": "stdout",
     "output_type": "stream",
     "text": [
      "Epoch 0 train mse: 2.3997624\t valid mse: 2.5101453933814803\n",
      "Epoch 1 train mse: 2.2294533\t valid mse: 2.0627070957766853\n",
      "Epoch 2 train mse: 1.3213911\t valid mse: 1.8278284778406257\n",
      "Epoch 3 train mse: 1.3160485\t valid mse: 1.407581104287387\n",
      "Epoch 4 train mse: 1.3205252\t valid mse: 1.407911177926407\n",
      "Epoch 5 train mse: 1.2603146\t valid mse: 1.3931035297275924\n",
      "Epoch 6 train mse: 1.260734\t valid mse: 1.4047070775611088\n",
      "Epoch 7 train mse: 1.2637725\t valid mse: 1.3917189517728805\n",
      "Epoch 8 train mse: 1.2987342\t valid mse: 1.3919972475659084\n",
      "Epoch 9 train mse: 1.2443206\t valid mse: 1.3891765426832845\n",
      "Epoch 10 train mse: 1.2574483\t valid mse: 1.400274170294384\n",
      "Epoch 11 train mse: 1.2512546\t valid mse: 1.388660783117587\n",
      "Epoch 12 train mse: 1.2582042\t valid mse: 1.3874036557424443\n",
      "Epoch 13 train mse: 1.2387319\t valid mse: 1.387003432903522\n",
      "Epoch 14 train mse: 1.2585131\t valid mse: 1.3878684852632213\n",
      "Epoch 15 train mse: 1.2690367\t valid mse: 1.3882356801098472\n",
      "Epoch 16 train mse: 1.2637272\t valid mse: 1.3880791421897245\n",
      "Epoch 17 train mse: 1.2379534\t valid mse: 1.3892849300523742\n",
      "Epoch 18 train mse: 1.2424694\t valid mse: 1.3903272231347343\n",
      "Epoch 19 train mse: 1.2706003\t valid mse: 1.388271038396308\n",
      "Epoch 20 train mse: 1.2643474\t valid mse: 1.3851160398187246\n",
      "Epoch 21 train mse: 1.251751\t valid mse: 1.387727494458142\n",
      "Epoch 22 train mse: 1.2716651\t valid mse: 1.3862415046418324\n",
      "Epoch 23 train mse: 1.2278758\t valid mse: 1.3940463772581924\n",
      "Epoch 24 train mse: 1.2632223\t valid mse: 1.3852021827547365\n",
      "Epoch 25 train mse: 1.2600088\t valid mse: 1.3868348435798676\n",
      "Epoch 26 train mse: 1.282574\t valid mse: 1.38509010340714\n",
      "Epoch 27 train mse: 1.2654864\t valid mse: 1.386586061971301\n",
      "Epoch 28 train mse: 1.2496438\t valid mse: 1.3869289438648205\n",
      "Epoch 29 train mse: 1.2461555\t valid mse: 1.3848232780703775\n",
      "Epoch 30 train mse: 1.2607152\t valid mse: 1.3856106610564924\n",
      "Epoch 31 train mse: 1.2702829\t valid mse: 1.3935459973779265\n",
      "Epoch 32 train mse: 1.29668\t valid mse: 1.3843337782610556\n",
      "Epoch 33 train mse: 1.275208\t valid mse: 1.3920826618102573\n",
      "Epoch 34 train mse: 1.2677714\t valid mse: 1.384708457569564\n",
      "Epoch 35 train mse: 1.2545812\t valid mse: 1.3898490246948931\n",
      "Epoch 36 train mse: 1.2561927\t valid mse: 1.3856656063309085\n",
      "Epoch 37 train mse: 1.2711462\t valid mse: 1.3842939586244958\n",
      "Epoch 38 train mse: 1.2610366\t valid mse: 1.386021340722051\n",
      "Epoch 39 train mse: 1.237551\t valid mse: 1.385562195704313\n",
      "Epoch 40 train mse: 1.2627574\t valid mse: 1.3949550580612966\n",
      "Epoch 41 train mse: 1.2408947\t valid mse: 1.3882127679382017\n",
      "Epoch 42 train mse: 1.2672783\t valid mse: 1.3849660209466488\n",
      "Epoch 43 train mse: 1.2602103\t valid mse: 1.3849534062926745\n",
      "Epoch 44 train mse: 1.2329359\t valid mse: 1.3863223669859877\n",
      "Epoch 45 train mse: 1.2480431\t valid mse: 1.3854560838319259\n",
      "Epoch 46 train mse: 1.2747719\t valid mse: 1.385786783703899\n",
      "Epoch 47 train mse: 1.2523011\t valid mse: 1.389523714369423\n",
      "Epoch 48 train mse: 1.2581145\t valid mse: 1.3844638983905826\n",
      "Epoch 49 train mse: 1.2742544\t valid mse: 1.3846221339587257\n",
      "Epoch 50 train mse: 1.2610584\t valid mse: 1.3866210725361239\n",
      "Epoch 51 train mse: 1.2941977\t valid mse: 1.3843469046811014\n",
      "Epoch 52 train mse: 1.2326173\t valid mse: 1.3855240955558552\n",
      "Epoch 53 train mse: 1.2630862\t valid mse: 1.3856871433344087\n",
      "Epoch 54 train mse: 1.2645735\t valid mse: 1.3856766673346665\n",
      "Epoch 55 train mse: 1.2304347\t valid mse: 1.3871666621936547\n",
      "Epoch 56 train mse: 1.2641146\t valid mse: 1.3840700485861792\n",
      "Epoch 57 train mse: 1.2552011\t valid mse: 1.3837516624353927\n",
      "Epoch 58 train mse: 1.2554334\t valid mse: 1.3863512802294806\n",
      "Epoch 59 train mse: 1.2438278\t valid mse: 1.387956154757811\n",
      "Epoch 60 train mse: 1.2652286\t valid mse: 1.3858212203818514\n",
      "Epoch 61 train mse: 1.2563366\t valid mse: 1.3877844978172043\n",
      "Epoch 62 train mse: 1.2709291\t valid mse: 1.3835617473969395\n",
      "Epoch 63 train mse: 1.250485\t valid mse: 1.3859666128458819\n",
      "Epoch 64 train mse: 1.2488909\t valid mse: 1.3844565549820746\n",
      "Epoch 65 train mse: 1.275164\t valid mse: 1.386888319241938\n",
      "Epoch 66 train mse: 1.263285\t valid mse: 1.3844655810439177\n",
      "Epoch 67 train mse: 1.2710185\t valid mse: 1.3877742286069135\n",
      "Epoch 68 train mse: 1.239224\t valid mse: 1.3872437189004354\n",
      "Epoch 69 train mse: 1.2359563\t valid mse: 1.3856729262666858\n",
      "Epoch 70 train mse: 1.2492421\t valid mse: 1.384987910080634\n",
      "Epoch 71 train mse: 1.280683\t valid mse: 1.3837626650532573\n",
      "Epoch 72 train mse: 1.2477878\t valid mse: 1.3890366061965704\n",
      "Epoch 73 train mse: 1.2316604\t valid mse: 1.3885835906809283\n",
      "Epoch 74 train mse: 1.2951037\t valid mse: 1.384745764428151\n",
      "Epoch 75 train mse: 1.2768217\t valid mse: 1.3839966921013567\n",
      "Epoch 76 train mse: 1.2234012\t valid mse: 1.3933456086849338\n",
      "Epoch 77 train mse: 1.2477407\t valid mse: 1.3860563813068107\n",
      "Epoch 78 train mse: 1.2764413\t valid mse: 1.3885802268014307\n",
      "Epoch 79 train mse: 1.2482975\t valid mse: 1.3862190019638112\n",
      "Epoch 80 train mse: 1.240667\t valid mse: 1.3891527580343799\n",
      "Epoch 81 train mse: 1.2715032\t valid mse: 1.386016349087374\n",
      "Epoch 82 train mse: 1.2238883\t valid mse: 1.386433235199919\n",
      "Epoch 83 train mse: 1.2466063\t valid mse: 1.3964326882459328\n",
      "Epoch 84 train mse: 1.3146286\t valid mse: 1.3838814670008857\n",
      "Epoch 85 train mse: 1.2507403\t valid mse: 1.383469199776641\n",
      "Epoch 86 train mse: 1.269925\t valid mse: 1.38367778573684\n",
      "Epoch 87 train mse: 1.2627807\t valid mse: 1.3886596710618146\n",
      "Epoch 88 train mse: 1.2665364\t valid mse: 1.3840662093270137\n",
      "Epoch 89 train mse: 1.2383811\t valid mse: 1.3833902029439806\n",
      "Epoch 90 train mse: 1.2753822\t valid mse: 1.3882804079092652\n",
      "Epoch 91 train mse: 1.2315518\t valid mse: 1.3842456976308102\n",
      "Epoch 92 train mse: 1.243678\t valid mse: 1.3854256054381677\n",
      "Epoch 93 train mse: 1.2862672\t valid mse: 1.383682385061157\n",
      "Epoch 94 train mse: 1.2553484\t valid mse: 1.3893103823402675\n",
      "Epoch 95 train mse: 1.2600638\t valid mse: 1.3843290802379546\n",
      "Epoch 96 train mse: 1.2607472\t valid mse: 1.388042095952905\n",
      "Epoch 97 train mse: 1.2923703\t valid mse: 1.383115682999945\n",
      "Epoch 98 train mse: 1.2644298\t valid mse: 1.3842043108004203\n",
      "Epoch 99 train mse: 1.2584194\t valid mse: 1.3867890597317976\n"
     ]
    }
   ],
   "source": [
    "'''\n",
    "1. batch 遍历训练集 metric\n",
    "    1.1 自动求导\n",
    "2. epoch结束， 验证集 metric\n",
    "'''\n",
    "epochs  = 100\n",
    "batch_size = 32\n",
    "steps_per_epoch = len(x_train_scaled)// batch_size\n",
    "optimizer = keras.optimizers.SGD()\n",
    "metric = keras.metrics.MeanSquaredError()\n",
    "\n",
    "def random_batch(x, y, batch_size=32):\n",
    "    idx = np.random.randint(0,len(x),size = batch_size)\n",
    "    return x[idx], y[idx]\n",
    "    \n",
    "model = keras.models.Sequential([\n",
    "    keras.layers.Dense(30, activation ='relu',\n",
    "                      input_shape =x_train.shape[1:]),\n",
    "    keras.layers.Dense(1),\n",
    "])\n",
    "\n",
    "for epoch in range(epochs):\n",
    "    metric.reset_states()\n",
    "    for step in range(steps_per_epoch):\n",
    "        x_batch, y_batch = random_batch(x_train_scaled,y_train,batch_size)\n",
    "        with tf.GradientTape() as tape:\n",
    "            y_pred = model(x_batch)\n",
    "            loss = tf.reduce_mean(\n",
    "                keras.losses.mean_squared_error(y_batch, y_pred))\n",
    "            metric(y_batch, y_pred)\n",
    "        grads = tape.gradient(loss, model.variables)\n",
    "        grads_and_vars = zip(grads,model.variables)\n",
    "        optimizer.apply_gradients(grads_and_vars)\n",
    "        print (\"\\rEpoch\",epoch, \"train mse:\",\n",
    "              metric.result().numpy(),end=\"\")\n",
    "    y_valid_pred = model(x_valid_scaled)\n",
    "    valid_loss = tf.reduce_mean(\n",
    "        keras.losses.mean_squared_error(y_valid_pred, y_valid))\n",
    "    print (\"\\t\", \"valid mse:\", valid_loss.numpy())\n",
    "        \n"
   ]
  },
  {
   "cell_type": "code",
   "execution_count": null,
   "metadata": {},
   "outputs": [],
   "source": []
  },
  {
   "cell_type": "code",
   "execution_count": null,
   "metadata": {},
   "outputs": [],
   "source": []
  },
  {
   "cell_type": "code",
   "execution_count": null,
   "metadata": {},
   "outputs": [],
   "source": []
  }
 ],
 "metadata": {
  "kernelspec": {
   "display_name": "Python 3",
   "language": "python",
   "name": "python3"
  },
  "language_info": {
   "codemirror_mode": {
    "name": "ipython",
    "version": 3
   },
   "file_extension": ".py",
   "mimetype": "text/x-python",
   "name": "python",
   "nbconvert_exporter": "python",
   "pygments_lexer": "ipython3",
   "version": "3.6.8"
  }
 },
 "nbformat": 4,
 "nbformat_minor": 2
}
