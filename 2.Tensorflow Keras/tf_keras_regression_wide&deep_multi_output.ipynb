{
 "cells": [
  {
   "cell_type": "code",
   "execution_count": 1,
   "metadata": {},
   "outputs": [
    {
     "name": "stdout",
     "output_type": "stream",
     "text": [
      "2.0.0-beta1\n",
      "sys.version_info(major=3, minor=6, micro=8, releaselevel='final', serial=0)\n",
      "matplotlib 3.1.1\n",
      "numpy 1.16.4\n",
      "pandas 0.24.2\n",
      "sklearn 0.21.2\n",
      "tensorflow 2.0.0-beta1\n",
      "tensorflow.python.keras.api._v2.keras 2.2.4-tf\n"
     ]
    }
   ],
   "source": [
    "import matplotlib as mpl\n",
    "import matplotlib.pyplot as plt\n",
    "%matplotlib inline\n",
    "import numpy as np\n",
    "import pandas as pd\n",
    "import sklearn\n",
    "import os\n",
    "import sys\n",
    "import time\n",
    "import tensorflow as tf\n",
    "from tensorflow import keras\n",
    "\n",
    "print (tf.__version__)\n",
    "print (sys.version_info)\n",
    "for module in mpl, np, pd, sklearn, tf, keras:\n",
    "    print (module.__name__, module.__version__)"
   ]
  },
  {
   "cell_type": "code",
   "execution_count": 2,
   "metadata": {},
   "outputs": [
    {
     "name": "stdout",
     "output_type": "stream",
     "text": [
      ".. _california_housing_dataset:\n",
      "\n",
      "California Housing dataset\n",
      "--------------------------\n",
      "\n",
      "**Data Set Characteristics:**\n",
      "\n",
      "    :Number of Instances: 20640\n",
      "\n",
      "    :Number of Attributes: 8 numeric, predictive attributes and the target\n",
      "\n",
      "    :Attribute Information:\n",
      "        - MedInc        median income in block\n",
      "        - HouseAge      median house age in block\n",
      "        - AveRooms      average number of rooms\n",
      "        - AveBedrms     average number of bedrooms\n",
      "        - Population    block population\n",
      "        - AveOccup      average house occupancy\n",
      "        - Latitude      house block latitude\n",
      "        - Longitude     house block longitude\n",
      "\n",
      "    :Missing Attribute Values: None\n",
      "\n",
      "This dataset was obtained from the StatLib repository.\n",
      "http://lib.stat.cmu.edu/datasets/\n",
      "\n",
      "The target variable is the median house value for California districts.\n",
      "\n",
      "This dataset was derived from the 1990 U.S. census, using one row per census\n",
      "block group. A block group is the smallest geographical unit for which the U.S.\n",
      "Census Bureau publishes sample data (a block group typically has a population\n",
      "of 600 to 3,000 people).\n",
      "\n",
      "It can be downloaded/loaded using the\n",
      ":func:`sklearn.datasets.fetch_california_housing` function.\n",
      "\n",
      ".. topic:: References\n",
      "\n",
      "    - Pace, R. Kelley and Ronald Barry, Sparse Spatial Autoregressions,\n",
      "      Statistics and Probability Letters, 33 (1997) 291-297\n",
      "\n",
      "(20640, 8)\n",
      "(20640,)\n"
     ]
    }
   ],
   "source": [
    "from sklearn.datasets import fetch_california_housing\n",
    "\n",
    "housing = fetch_california_housing()\n",
    "print (housing.DESCR)\n",
    "print (housing.data.shape)\n",
    "print (housing.target.shape)"
   ]
  },
  {
   "cell_type": "code",
   "execution_count": 3,
   "metadata": {},
   "outputs": [
    {
     "name": "stdout",
     "output_type": "stream",
     "text": [
      "array([[ 8.32520000e+00,  4.10000000e+01,  6.98412698e+00,\n",
      "         1.02380952e+00,  3.22000000e+02,  2.55555556e+00,\n",
      "         3.78800000e+01, -1.22230000e+02],\n",
      "       [ 8.30140000e+00,  2.10000000e+01,  6.23813708e+00,\n",
      "         9.71880492e-01,  2.40100000e+03,  2.10984183e+00,\n",
      "         3.78600000e+01, -1.22220000e+02],\n",
      "       [ 7.25740000e+00,  5.20000000e+01,  8.28813559e+00,\n",
      "         1.07344633e+00,  4.96000000e+02,  2.80225989e+00,\n",
      "         3.78500000e+01, -1.22240000e+02],\n",
      "       [ 5.64310000e+00,  5.20000000e+01,  5.81735160e+00,\n",
      "         1.07305936e+00,  5.58000000e+02,  2.54794521e+00,\n",
      "         3.78500000e+01, -1.22250000e+02],\n",
      "       [ 3.84620000e+00,  5.20000000e+01,  6.28185328e+00,\n",
      "         1.08108108e+00,  5.65000000e+02,  2.18146718e+00,\n",
      "         3.78500000e+01, -1.22250000e+02]])\n",
      "array([4.526, 3.585, 3.521, 3.413, 3.422])\n"
     ]
    }
   ],
   "source": [
    "import pprint\n",
    "pprint.pprint (housing.data[0:5])\n",
    "pprint.pprint(housing.target[0:5])"
   ]
  },
  {
   "cell_type": "code",
   "execution_count": 4,
   "metadata": {},
   "outputs": [
    {
     "name": "stdout",
     "output_type": "stream",
     "text": [
      "(11610, 8) (11610,)\n",
      "(3870, 8) (3870,)\n",
      "(5160, 8) (5160,)\n"
     ]
    }
   ],
   "source": [
    "from sklearn.model_selection import train_test_split\n",
    "\n",
    "x_train_all, x_test, y_train_all, y_test = train_test_split(\n",
    "    housing.data, housing.target, random_state = 7, test_size=0.25)\n",
    "x_train, x_valid, y_train, y_valid = train_test_split(\n",
    "    x_train_all, y_train_all, random_state=11, test_size = 0.25)\n",
    "\n",
    "print (x_train.shape, y_train.shape)\n",
    "print (x_valid.shape, y_valid.shape)\n",
    "print (x_test.shape, y_test.shape)"
   ]
  },
  {
   "cell_type": "code",
   "execution_count": 5,
   "metadata": {},
   "outputs": [],
   "source": [
    "from sklearn.preprocessing import StandardScaler\n",
    "scaler = StandardScaler()\n",
    "x_train_scaled = scaler.fit_transform(x_train)  #这里使用fit_transform函数，因为在训练集上获得均值和方差，在验证集和测试集上面使用\n",
    "x_valid_scaled = scaler.transform(x_valid)\n",
    "x_test_scaled = scaler.transform(x_test)"
   ]
  },
  {
   "cell_type": "code",
   "execution_count": 6,
   "metadata": {},
   "outputs": [
    {
     "data": {
      "text/plain": [
       "(11610, 8)"
      ]
     },
     "execution_count": 6,
     "metadata": {},
     "output_type": "execute_result"
    }
   ],
   "source": [
    "x_train.shape[0:]"
   ]
  },
  {
   "cell_type": "code",
   "execution_count": 7,
   "metadata": {},
   "outputs": [
    {
     "name": "stdout",
     "output_type": "stream",
     "text": [
      "Model: \"model\"\n",
      "__________________________________________________________________________________________________\n",
      "Layer (type)                    Output Shape         Param #     Connected to                     \n",
      "==================================================================================================\n",
      "input_2 (InputLayer)            [(None, 6)]          0                                            \n",
      "__________________________________________________________________________________________________\n",
      "dense (Dense)                   (None, 30)           210         input_2[0][0]                    \n",
      "__________________________________________________________________________________________________\n",
      "input_1 (InputLayer)            [(None, 5)]          0                                            \n",
      "__________________________________________________________________________________________________\n",
      "dense_1 (Dense)                 (None, 30)           930         dense[0][0]                      \n",
      "__________________________________________________________________________________________________\n",
      "concatenate (Concatenate)       (None, 35)           0           input_1[0][0]                    \n",
      "                                                                 dense_1[0][0]                    \n",
      "__________________________________________________________________________________________________\n",
      "dense_2 (Dense)                 (None, 1)            36          concatenate[0][0]                \n",
      "__________________________________________________________________________________________________\n",
      "dense_3 (Dense)                 (None, 1)            31          dense_1[0][0]                    \n",
      "==================================================================================================\n",
      "Total params: 1,207\n",
      "Trainable params: 1,207\n",
      "Non-trainable params: 0\n",
      "__________________________________________________________________________________________________\n"
     ]
    }
   ],
   "source": [
    "# # 函数式API\n",
    "# input = keras.layers.Input(shape=x_train.shape[1:])\n",
    "# hidden1 = keras.layers.Dense(30,activation ='relu')(input)\n",
    "# hidden2 = keras.layers.Dense(30,activation = 'relu')(hidden1)\n",
    "\n",
    "# concat = keras.layers.concatenate([input, hidden2])\n",
    "# output = keras.layers.Dense(1)(concat)\n",
    "\n",
    "# model = keras.models.Model(inputs=[input],\n",
    "#                           outputs = [output])\n",
    "\n",
    "\n",
    "# #子类API\n",
    "# class WideDeepModel(keras.models.Model):\n",
    "#     def __init__(self):\n",
    "#         super(WideDeepModel,self).__init__()\n",
    "        \n",
    "#         self.hidden1_layer = keras.layers.Dense(30,activation='relu')\n",
    "#         self.hidden2_layer = keras.layers.Dense(30,activation='relu')\n",
    "#         self.output_layer = keras.layers.Dense(1)\n",
    "#     def call(self, input):\n",
    "#         hidden1 = self.hidden1_layer(input)\n",
    "#         hidden2 = self.hidden2_layer(hidden1)\n",
    "#         concat = keras.layers.concatenate([input,hidden2])\n",
    "#         output = self.output_layer(concat)\n",
    "#         return output\n",
    "# model = WideDeepModel()\n",
    "# model.build(input_shape=(None, 8))\n",
    "'''\n",
    "多个输出，这时候是训练了两遍？\n",
    "'''\n",
    "input_wide = keras.layers.Input(shape = [5] )\n",
    "input_deep = keras.layers.Input(shape=[6] )\n",
    "\n",
    "hidden_1 = keras.layers.Dense(30, activation = 'relu')(input_deep)\n",
    "hidden_2 = keras.layers.Dense(30, activation = 'relu')(hidden_1)\n",
    "concat = keras.layers.concatenate([input_wide, hidden_2])\n",
    "output = keras.layers.Dense(1)(concat)\n",
    "output2 = keras.layers.Dense(1)(hidden_2)\n",
    "\n",
    "model = keras.models.Model(inputs = [input_wide,input_deep],\n",
    "                          outputs = [output,output2])\n",
    "\n",
    "\n",
    "model.summary()\n",
    "model.compile(loss=\"mean_squared_error\", optimizer='sgd')\n",
    "callbacks = [keras.callbacks.EarlyStopping(\n",
    "    patience=5, min_delta=1e-2)]\n"
   ]
  },
  {
   "cell_type": "code",
   "execution_count": 8,
   "metadata": {},
   "outputs": [],
   "source": [
    "x_train_wide = x_train_scaled[:,:5]\n",
    "x_train_deep = x_train_scaled[:,2:]\n",
    "x_valid_wide = x_valid_scaled[:,:5]\n",
    "x_valid_deep = x_valid_scaled[:,2:]"
   ]
  },
  {
   "cell_type": "code",
   "execution_count": 11,
   "metadata": {},
   "outputs": [
    {
     "name": "stdout",
     "output_type": "stream",
     "text": [
      "Train on 11610 samples, validate on 3870 samples\n",
      "Epoch 1/50\n",
      "11610/11610 [==============================] - 1s 79us/sample - loss: 1.9539 - dense_2_loss: 0.8167 - dense_3_loss: 1.1366 - val_loss: 1.2243 - val_dense_2_loss: 0.5029 - val_dense_3_loss: 0.7209\n",
      "Epoch 2/50\n",
      "11610/11610 [==============================] - 1s 53us/sample - loss: 1.0796 - dense_2_loss: 0.4585 - dense_3_loss: 0.6212 - val_loss: 1.0683 - val_dense_2_loss: 0.4579 - val_dense_3_loss: 0.6102\n",
      "Epoch 3/50\n",
      "11610/11610 [==============================] - 1s 68us/sample - loss: 0.9802 - dense_2_loss: 0.4257 - dense_3_loss: 0.5547 - val_loss: 1.0168 - val_dense_2_loss: 0.4666 - val_dense_3_loss: 0.5503\n",
      "Epoch 4/50\n",
      "11610/11610 [==============================] - 1s 73us/sample - loss: 0.9207 - dense_2_loss: 0.4050 - dense_3_loss: 0.5159 - val_loss: 0.9436 - val_dense_2_loss: 0.4127 - val_dense_3_loss: 0.5308\n",
      "Epoch 5/50\n",
      "11610/11610 [==============================] - 1s 95us/sample - loss: 0.9020 - dense_2_loss: 0.3876 - dense_3_loss: 0.5141 - val_loss: 0.8884 - val_dense_2_loss: 0.3987 - val_dense_3_loss: 0.4898\n",
      "Epoch 6/50\n",
      "11610/11610 [==============================] - 1s 52us/sample - loss: 0.8348 - dense_2_loss: 0.3746 - dense_3_loss: 0.4604 - val_loss: 0.8475 - val_dense_2_loss: 0.3813 - val_dense_3_loss: 0.4664\n",
      "Epoch 7/50\n",
      "11610/11610 [==============================] - 1s 65us/sample - loss: 0.8067 - dense_2_loss: 0.3630 - dense_3_loss: 0.4439 - val_loss: 0.8348 - val_dense_2_loss: 0.3717 - val_dense_3_loss: 0.4631\n",
      "Epoch 8/50\n",
      "11610/11610 [==============================] - 1s 61us/sample - loss: 0.7879 - dense_2_loss: 0.3576 - dense_3_loss: 0.4301 - val_loss: 0.8663 - val_dense_2_loss: 0.3886 - val_dense_3_loss: 0.4775\n",
      "Epoch 9/50\n",
      "11610/11610 [==============================] - 1s 60us/sample - loss: 0.7653 - dense_2_loss: 0.3479 - dense_3_loss: 0.4172 - val_loss: 0.7889 - val_dense_2_loss: 0.3601 - val_dense_3_loss: 0.4288\n",
      "Epoch 10/50\n",
      "11610/11610 [==============================] - 1s 62us/sample - loss: 0.7514 - dense_2_loss: 0.3418 - dense_3_loss: 0.4095 - val_loss: 0.7799 - val_dense_2_loss: 0.3560 - val_dense_3_loss: 0.4242\n",
      "Epoch 11/50\n",
      "11610/11610 [==============================] - 1s 60us/sample - loss: 0.7385 - dense_2_loss: 0.3379 - dense_3_loss: 0.4006 - val_loss: 0.7777 - val_dense_2_loss: 0.3565 - val_dense_3_loss: 0.4211\n",
      "Epoch 12/50\n",
      "11610/11610 [==============================] - 1s 58us/sample - loss: 0.7384 - dense_2_loss: 0.3378 - dense_3_loss: 0.4008 - val_loss: 0.7765 - val_dense_2_loss: 0.3536 - val_dense_3_loss: 0.4233\n",
      "Epoch 13/50\n",
      "11610/11610 [==============================] - 1s 62us/sample - loss: 0.7265 - dense_2_loss: 0.3328 - dense_3_loss: 0.3938 - val_loss: 0.7713 - val_dense_2_loss: 0.3527 - val_dense_3_loss: 0.4185\n",
      "Epoch 14/50\n",
      "11610/11610 [==============================] - 1s 63us/sample - loss: 0.7275 - dense_2_loss: 0.3342 - dense_3_loss: 0.3934 - val_loss: 0.7354 - val_dense_2_loss: 0.3387 - val_dense_3_loss: 0.3965\n",
      "Epoch 15/50\n",
      "11610/11610 [==============================] - 1s 57us/sample - loss: 0.7140 - dense_2_loss: 0.3279 - dense_3_loss: 0.3860 - val_loss: 0.7364 - val_dense_2_loss: 0.3380 - val_dense_3_loss: 0.3985\n",
      "Epoch 16/50\n",
      "11610/11610 [==============================] - 1s 61us/sample - loss: 0.7084 - dense_2_loss: 0.3252 - dense_3_loss: 0.3831 - val_loss: 0.7336 - val_dense_2_loss: 0.3367 - val_dense_3_loss: 0.3971\n",
      "Epoch 17/50\n",
      "11610/11610 [==============================] - 1s 66us/sample - loss: 0.7171 - dense_2_loss: 0.3286 - dense_3_loss: 0.3886 - val_loss: 0.7392 - val_dense_2_loss: 0.3363 - val_dense_3_loss: 0.4028\n",
      "Epoch 18/50\n",
      "11610/11610 [==============================] - 1s 60us/sample - loss: 0.7072 - dense_2_loss: 0.3250 - dense_3_loss: 0.3823 - val_loss: 0.7414 - val_dense_2_loss: 0.3414 - val_dense_3_loss: 0.4000\n",
      "Epoch 19/50\n",
      "11610/11610 [==============================] - 1s 63us/sample - loss: 0.6977 - dense_2_loss: 0.3213 - dense_3_loss: 0.3762 - val_loss: 0.7218 - val_dense_2_loss: 0.3341 - val_dense_3_loss: 0.3878\n",
      "Epoch 20/50\n",
      "11610/11610 [==============================] - 1s 75us/sample - loss: 0.7017 - dense_2_loss: 0.3224 - dense_3_loss: 0.3792 - val_loss: 0.7103 - val_dense_2_loss: 0.3271 - val_dense_3_loss: 0.3830\n",
      "Epoch 21/50\n",
      "11610/11610 [==============================] - 1s 67us/sample - loss: 0.6970 - dense_2_loss: 0.3206 - dense_3_loss: 0.3767 - val_loss: 0.7245 - val_dense_2_loss: 0.3334 - val_dense_3_loss: 0.3909\n",
      "Epoch 22/50\n",
      "11610/11610 [==============================] - 1s 68us/sample - loss: 0.6936 - dense_2_loss: 0.3188 - dense_3_loss: 0.3748 - val_loss: 0.7226 - val_dense_2_loss: 0.3333 - val_dense_3_loss: 0.3891\n",
      "Epoch 23/50\n",
      "11610/11610 [==============================] - 1s 79us/sample - loss: 0.6916 - dense_2_loss: 0.3176 - dense_3_loss: 0.3743 - val_loss: 0.7422 - val_dense_2_loss: 0.3394 - val_dense_3_loss: 0.4027\n",
      "Epoch 24/50\n",
      "11610/11610 [==============================] - 1s 69us/sample - loss: 0.6890 - dense_2_loss: 0.3166 - dense_3_loss: 0.3723 - val_loss: 0.7143 - val_dense_2_loss: 0.3292 - val_dense_3_loss: 0.3852\n",
      "Epoch 25/50\n",
      "11610/11610 [==============================] - 1s 57us/sample - loss: 0.6876 - dense_2_loss: 0.3165 - dense_3_loss: 0.3710 - val_loss: 0.7008 - val_dense_2_loss: 0.3234 - val_dense_3_loss: 0.3774\n"
     ]
    }
   ],
   "source": [
    "history = model.fit([x_train_wide,x_train_deep],[y_train,y_train],\n",
    "                   validation_data=([x_valid_wide, x_valid_deep],[y_valid,y_valid]),\n",
    "                   epochs=50,\n",
    "                   callbacks=callbacks)"
   ]
  },
  {
   "cell_type": "code",
   "execution_count": 12,
   "metadata": {},
   "outputs": [
    {
     "data": {
      "image/png": "[encoded data removed]",
      "text/plain": [
       "<Figure size 576x360 with 1 Axes>"
      ]
     },
     "metadata": {
      "needs_background": "light"
     },
     "output_type": "display_data"
    }
   ],
   "source": [
    "def plot_learning_curves(history):\n",
    "    pd.DataFrame(history.history).plot(figsize=(8,5))\n",
    "    plt.grid(True)\n",
    "    plt.gca().set_ylim(0,1)\n",
    "\n",
    "    plt.show()\n",
    "    \n",
    "plot_learning_curves(history)"
   ]
  },
  {
   "cell_type": "code",
   "execution_count": null,
   "metadata": {},
   "outputs": [],
   "source": [
    "model.evaluate(x_test_scaled,y_test)"
   ]
  },
  {
   "cell_type": "code",
   "execution_count": null,
   "metadata": {},
   "outputs": [],
   "source": []
  },
  {
   "cell_type": "code",
   "execution_count": null,
   "metadata": {},
   "outputs": [],
   "source": []
  }
 ],
 "metadata": {
  "kernelspec": {
   "display_name": "Python 3",
   "language": "python",
   "name": "python3"
  },
  "language_info": {
   "codemirror_mode": {
    "name": "ipython",
    "version": 3
   },
   "file_extension": ".py",
   "mimetype": "text/x-python",
   "name": "python",
   "nbconvert_exporter": "python",
   "pygments_lexer": "ipython3",
   "version": "3.6.8"
  }
 },
 "nbformat": 4,
 "nbformat_minor": 2
}
