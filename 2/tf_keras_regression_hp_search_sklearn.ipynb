{
 "cells": [
  {
   "cell_type": "code",
   "execution_count": 2,
   "metadata": {},
   "outputs": [
    {
     "name": "stdout",
     "output_type": "stream",
     "text": [
      "2.0.0-beta1\n",
      "sys.version_info(major=3, minor=6, micro=8, releaselevel='final', serial=0)\n",
      "matplotlib 3.1.1\n",
      "numpy 1.16.4\n",
      "pandas 0.24.2\n",
      "sklearn 0.21.2\n",
      "tensorflow 2.0.0-beta1\n",
      "tensorflow.python.keras.api._v2.keras 2.2.4-tf\n"
     ]
    }
   ],
   "source": [
    "import matplotlib as mpl\n",
    "import matplotlib.pyplot as plt\n",
    "%matplotlib inline\n",
    "import numpy as np\n",
    "import pandas as pd\n",
    "import sklearn\n",
    "import os\n",
    "import sys\n",
    "import time\n",
    "import tensorflow as tf\n",
    "from tensorflow import keras\n",
    "\n",
    "print (tf.__version__)\n",
    "print (sys.version_info)\n",
    "for module in mpl, np, pd, sklearn, tf, keras:\n",
    "    print (module.__name__, module.__version__)"
   ]
  },
  {
   "cell_type": "code",
   "execution_count": 3,
   "metadata": {},
   "outputs": [
    {
     "name": "stdout",
     "output_type": "stream",
     "text": [
      ".. _california_housing_dataset:\n",
      "\n",
      "California Housing dataset\n",
      "--------------------------\n",
      "\n",
      "**Data Set Characteristics:**\n",
      "\n",
      "    :Number of Instances: 20640\n",
      "\n",
      "    :Number of Attributes: 8 numeric, predictive attributes and the target\n",
      "\n",
      "    :Attribute Information:\n",
      "        - MedInc        median income in block\n",
      "        - HouseAge      median house age in block\n",
      "        - AveRooms      average number of rooms\n",
      "        - AveBedrms     average number of bedrooms\n",
      "        - Population    block population\n",
      "        - AveOccup      average house occupancy\n",
      "        - Latitude      house block latitude\n",
      "        - Longitude     house block longitude\n",
      "\n",
      "    :Missing Attribute Values: None\n",
      "\n",
      "This dataset was obtained from the StatLib repository.\n",
      "http://lib.stat.cmu.edu/datasets/\n",
      "\n",
      "The target variable is the median house value for California districts.\n",
      "\n",
      "This dataset was derived from the 1990 U.S. census, using one row per census\n",
      "block group. A block group is the smallest geographical unit for which the U.S.\n",
      "Census Bureau publishes sample data (a block group typically has a population\n",
      "of 600 to 3,000 people).\n",
      "\n",
      "It can be downloaded/loaded using the\n",
      ":func:`sklearn.datasets.fetch_california_housing` function.\n",
      "\n",
      ".. topic:: References\n",
      "\n",
      "    - Pace, R. Kelley and Ronald Barry, Sparse Spatial Autoregressions,\n",
      "      Statistics and Probability Letters, 33 (1997) 291-297\n",
      "\n",
      "(20640, 8)\n",
      "(20640,)\n"
     ]
    }
   ],
   "source": [
    "from sklearn.datasets import fetch_california_housing\n",
    "\n",
    "housing = fetch_california_housing()\n",
    "print (housing.DESCR)\n",
    "print (housing.data.shape)\n",
    "print (housing.target.shape)"
   ]
  },
  {
   "cell_type": "code",
   "execution_count": 4,
   "metadata": {},
   "outputs": [
    {
     "name": "stdout",
     "output_type": "stream",
     "text": [
      "(11610, 8) (11610,)\n",
      "(3870, 8) (3870,)\n",
      "(5160, 8) (5160,)\n"
     ]
    }
   ],
   "source": [
    "from sklearn.model_selection import train_test_split\n",
    "\n",
    "x_train_all, x_test, y_train_all, y_test = train_test_split(\n",
    "    housing.data, housing.target, random_state = 7, test_size=0.25)\n",
    "x_train, x_valid, y_train, y_valid = train_test_split(\n",
    "    x_train_all, y_train_all, random_state=11, test_size = 0.25)\n",
    "\n",
    "print (x_train.shape, y_train.shape)\n",
    "print (x_valid.shape, y_valid.shape)\n",
    "print (x_test.shape, y_test.shape)"
   ]
  },
  {
   "cell_type": "code",
   "execution_count": 5,
   "metadata": {},
   "outputs": [],
   "source": [
    "from sklearn.preprocessing import StandardScaler\n",
    "scaler = StandardScaler()\n",
    "x_train_scaled = scaler.fit_transform(x_train)  #这里使用fit_transform函数，因为在训练集上获得均值和方差，在验证集和测试集上面使用\n",
    "x_valid_scaled = scaler.transform(x_valid)\n",
    "x_test_scaled = scaler.transform(x_test)"
   ]
  },
  {
   "cell_type": "code",
   "execution_count": 17,
   "metadata": {},
   "outputs": [
    {
     "name": "stdout",
     "output_type": "stream",
     "text": [
      "Train on 11610 samples, validate on 3870 samples\n",
      "Epoch 1/100\n",
      "11610/11610 [==============================] - 1s 56us/sample - loss: 1.1997 - val_loss: 0.6699\n",
      "Epoch 2/100\n",
      "11610/11610 [==============================] - 0s 40us/sample - loss: 0.5867 - val_loss: 0.5897\n",
      "Epoch 3/100\n",
      "11610/11610 [==============================] - 1s 47us/sample - loss: 0.5241 - val_loss: 0.5367\n",
      "Epoch 4/100\n",
      "11610/11610 [==============================] - 1s 44us/sample - loss: 0.4915 - val_loss: 0.5036\n",
      "Epoch 5/100\n",
      "11610/11610 [==============================] - 1s 47us/sample - loss: 0.4615 - val_loss: 0.4766\n",
      "Epoch 6/100\n",
      "11610/11610 [==============================] - 0s 40us/sample - loss: 0.4428 - val_loss: 0.4581\n",
      "Epoch 7/100\n",
      "11610/11610 [==============================] - 1s 44us/sample - loss: 0.4319 - val_loss: 0.4452\n",
      "Epoch 8/100\n",
      "11610/11610 [==============================] - 1s 47us/sample - loss: 0.4188 - val_loss: 0.4335\n",
      "Epoch 9/100\n",
      "11610/11610 [==============================] - 1s 45us/sample - loss: 0.4098 - val_loss: 0.4357\n",
      "Epoch 10/100\n",
      "11610/11610 [==============================] - 1s 49us/sample - loss: 0.4063 - val_loss: 0.4205\n",
      "Epoch 11/100\n",
      "11610/11610 [==============================] - 0s 42us/sample - loss: 0.4039 - val_loss: 0.4219\n",
      "Epoch 12/100\n",
      "11610/11610 [==============================] - 0s 42us/sample - loss: 0.3972 - val_loss: 0.4039\n",
      "Epoch 13/100\n",
      "11610/11610 [==============================] - 1s 52us/sample - loss: 0.3868 - val_loss: 0.3978\n",
      "Epoch 14/100\n",
      "11610/11610 [==============================] - 1s 51us/sample - loss: 0.3925 - val_loss: 0.3974\n",
      "Epoch 15/100\n",
      "11610/11610 [==============================] - 1s 50us/sample - loss: 0.3815 - val_loss: 0.3939\n",
      "Epoch 16/100\n",
      "11610/11610 [==============================] - 1s 61us/sample - loss: 0.3730 - val_loss: 0.3855\n",
      "Epoch 17/100\n",
      "11610/11610 [==============================] - 1s 96us/sample - loss: 0.3723 - val_loss: 0.4425\n",
      "Epoch 18/100\n",
      "11610/11610 [==============================] - 1s 49us/sample - loss: 0.3712 - val_loss: 0.3856\n",
      "Epoch 19/100\n",
      "11610/11610 [==============================] - 0s 41us/sample - loss: 0.3650 - val_loss: 0.3797\n",
      "Epoch 20/100\n",
      "11610/11610 [==============================] - 1s 44us/sample - loss: 0.3609 - val_loss: 0.3891\n",
      "Epoch 21/100\n",
      "11610/11610 [==============================] - 0s 41us/sample - loss: 0.3593 - val_loss: 0.3754\n",
      "Epoch 22/100\n",
      "11610/11610 [==============================] - 1s 44us/sample - loss: 0.3590 - val_loss: 0.3715\n",
      "Epoch 23/100\n",
      "11610/11610 [==============================] - 1s 49us/sample - loss: 0.3648 - val_loss: 0.3746\n",
      "Epoch 24/100\n",
      "11610/11610 [==============================] - 1s 67us/sample - loss: 0.3532 - val_loss: 0.3692\n",
      "Epoch 25/100\n",
      "11610/11610 [==============================] - 1s 61us/sample - loss: 0.3510 - val_loss: 0.3652\n",
      "Epoch 26/100\n",
      "11610/11610 [==============================] - 1s 63us/sample - loss: 0.3508 - val_loss: 0.3629\n",
      "Epoch 27/100\n",
      "11610/11610 [==============================] - 1s 59us/sample - loss: 0.3514 - val_loss: 0.3617\n",
      "Epoch 28/100\n",
      "11610/11610 [==============================] - 1s 67us/sample - loss: 0.3463 - val_loss: 0.3589\n",
      "Epoch 29/100\n",
      "11610/11610 [==============================] - 1s 63us/sample - loss: 0.3461 - val_loss: 0.3624\n",
      "Epoch 30/100\n",
      "11610/11610 [==============================] - 1s 58us/sample - loss: 0.3443 - val_loss: 0.3578\n",
      "Epoch 31/100\n",
      "11610/11610 [==============================] - 1s 63us/sample - loss: 0.3418 - val_loss: 0.3532\n",
      "Epoch 32/100\n",
      "11610/11610 [==============================] - 1s 79us/sample - loss: 0.3432 - val_loss: 0.3597\n",
      "Epoch 33/100\n",
      "11610/11610 [==============================] - 1s 56us/sample - loss: 0.3392 - val_loss: 0.3502\n",
      "Epoch 34/100\n",
      "11610/11610 [==============================] - 1s 56us/sample - loss: 0.3422 - val_loss: 0.3522\n",
      "Epoch 35/100\n",
      "11610/11610 [==============================] - 1s 62us/sample - loss: 0.3416 - val_loss: 0.3541\n",
      "Epoch 36/100\n",
      "11610/11610 [==============================] - 1s 59us/sample - loss: 0.3380 - val_loss: 0.3518\n",
      "Epoch 37/100\n",
      "11610/11610 [==============================] - 1s 67us/sample - loss: 0.3341 - val_loss: 0.3473\n",
      "Epoch 38/100\n",
      "11610/11610 [==============================] - 1s 68us/sample - loss: 0.3327 - val_loss: 0.3561\n",
      "Epoch 39/100\n",
      "11610/11610 [==============================] - 1s 48us/sample - loss: 0.3331 - val_loss: 0.3476\n",
      "Epoch 40/100\n",
      "11610/11610 [==============================] - 1s 53us/sample - loss: 0.3400 - val_loss: 0.3428\n",
      "Epoch 41/100\n",
      "11610/11610 [==============================] - 1s 77us/sample - loss: 0.3284 - val_loss: 0.3491\n",
      "Epoch 42/100\n",
      "11610/11610 [==============================] - 1s 47us/sample - loss: 0.3296 - val_loss: 0.3443\n",
      "Epoch 43/100\n",
      "11610/11610 [==============================] - 1s 44us/sample - loss: 0.3329 - val_loss: 0.3436\n",
      "Epoch 44/100\n",
      "11610/11610 [==============================] - 0s 41us/sample - loss: 0.3282 - val_loss: 0.3411\n",
      "Epoch 45/100\n",
      "11610/11610 [==============================] - 0s 42us/sample - loss: 0.3293 - val_loss: 0.3448\n",
      "Epoch 46/100\n",
      "11610/11610 [==============================] - 0s 41us/sample - loss: 0.3332 - val_loss: 0.3432\n",
      "Epoch 47/100\n",
      "11610/11610 [==============================] - 1s 49us/sample - loss: 0.3265 - val_loss: 0.3426\n",
      "Epoch 48/100\n",
      "11610/11610 [==============================] - 1s 58us/sample - loss: 0.3253 - val_loss: 0.3419\n",
      "Epoch 49/100\n",
      "11610/11610 [==============================] - 1s 55us/sample - loss: 0.3234 - val_loss: 0.3381\n",
      "Epoch 50/100\n",
      "11610/11610 [==============================] - 1s 49us/sample - loss: 0.3237 - val_loss: 0.3355\n",
      "Epoch 51/100\n",
      "11610/11610 [==============================] - 1s 46us/sample - loss: 0.3218 - val_loss: 0.3403\n",
      "Epoch 52/100\n",
      "11610/11610 [==============================] - 1s 45us/sample - loss: 0.3235 - val_loss: 0.3376\n",
      "Epoch 53/100\n",
      "11610/11610 [==============================] - 1s 49us/sample - loss: 0.3185 - val_loss: 0.3389\n",
      "Epoch 54/100\n",
      "11610/11610 [==============================] - 1s 45us/sample - loss: 0.3221 - val_loss: 0.3350\n",
      "Epoch 55/100\n",
      "11610/11610 [==============================] - 1s 44us/sample - loss: 0.3178 - val_loss: 0.3435\n"
     ]
    }
   ],
   "source": [
    "#RandomizedSearchCV\n",
    "#转化为scikit-learn model\n",
    "#定义参数集合\n",
    "#搜索参数\n",
    "def build_model(hidden_layer = 2, layer_size = 30, learning_rate = 3e-3 ):\n",
    "    model = keras.models.Sequential()\n",
    "    model.add(keras.layers.Dense(layer_size,activation='relu',\n",
    "                      input_shape = x_train.shape[1:]))\n",
    "    for _ in range(hidden_layer-1):\n",
    "        model.add(keras.layers.Dense(layer_size,activation ='relu'))\n",
    "    model.add(keras.layers.Dense(1))\n",
    "    optimizer = keras.optimizers.SGD(learning_rate)\n",
    "    model.compile(loss=\"mse\",optimizer = optimizer)\n",
    "    return model\n",
    "\n",
    "\n",
    "sklearn_model = keras.wrappers.scikit_learn.KerasRegressor(build_model)\n",
    "callbacks=[keras.callbacks.EarlyStopping(patience=5,min_delta=1e-3)]\n",
    "history= sklearn_model.fit(x_train_scaled,y_train,epochs=100,\n",
    "                 validation_data=(x_valid_scaled,y_valid),\n",
    "                 callbacks=callbacks)\n",
    "\n"
   ]
  },
  {
   "cell_type": "code",
   "execution_count": 19,
   "metadata": {},
   "outputs": [
    {
     "data": {
      "image/png": "[encoded data removed]",
      "text/plain": [
       "<Figure size 576x360 with 1 Axes>"
      ]
     },
     "metadata": {
      "needs_background": "light"
     },
     "output_type": "display_data"
    }
   ],
   "source": [
    "def plot_learning_curves(history):\n",
    "    pd.DataFrame(history.history).plot(figsize=(8,5))\n",
    "    plt.grid(True)\n",
    "    plt.gca().set_ylim(0,1)\n",
    "\n",
    "    plt.show()\n",
    "    \n",
    "plot_learning_curves(history)"
   ]
  },
  {
   "cell_type": "code",
   "execution_count": null,
   "metadata": {},
   "outputs": [],
   "source": []
  },
  {
   "cell_type": "code",
   "execution_count": null,
   "metadata": {},
   "outputs": [],
   "source": []
  },
  {
   "cell_type": "code",
   "execution_count": null,
   "metadata": {},
   "outputs": [],
   "source": []
  }
 ],
 "metadata": {
  "kernelspec": {
   "display_name": "Python 3",
   "language": "python",
   "name": "python3"
  },
  "language_info": {
   "codemirror_mode": {
    "name": "ipython",
    "version": 3
   },
   "file_extension": ".py",
   "mimetype": "text/x-python",
   "name": "python",
   "nbconvert_exporter": "python",
   "pygments_lexer": "ipython3",
   "version": "3.6.8"
  }
 },
 "nbformat": 4,
 "nbformat_minor": 2
}
