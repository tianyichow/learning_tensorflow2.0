{
 "cells": [
  {
   "cell_type": "code",
   "execution_count": 1,
   "metadata": {},
   "outputs": [
    {
     "name": "stdout",
     "output_type": "stream",
     "text": [
      "2.0.0-beta1\n",
      "sys.version_info(major=3, minor=6, micro=8, releaselevel='final', serial=0)\n",
      "matplotlib 3.1.1\n",
      "numpy 1.16.4\n",
      "pandas 0.24.2\n",
      "sklearn 0.21.2\n",
      "tensorflow 2.0.0-beta1\n",
      "tensorflow.python.keras.api._v2.keras 2.2.4-tf\n"
     ]
    }
   ],
   "source": [
    "import matplotlib as mpl\n",
    "import matplotlib.pyplot as plt\n",
    "%matplotlib inline\n",
    "import numpy as np\n",
    "import pandas as pd\n",
    "import sklearn\n",
    "import os\n",
    "import sys\n",
    "import time\n",
    "import tensorflow as tf\n",
    "from tensorflow import keras\n",
    "\n",
    "print (tf.__version__)\n",
    "print (sys.version_info)\n",
    "for module in mpl, np, pd, sklearn, tf, keras:\n",
    "    print (module.__name__, module.__version__)"
   ]
  },
  {
   "cell_type": "code",
   "execution_count": 2,
   "metadata": {},
   "outputs": [
    {
     "name": "stdout",
     "output_type": "stream",
     "text": [
      ".. _california_housing_dataset:\n",
      "\n",
      "California Housing dataset\n",
      "--------------------------\n",
      "\n",
      "**Data Set Characteristics:**\n",
      "\n",
      "    :Number of Instances: 20640\n",
      "\n",
      "    :Number of Attributes: 8 numeric, predictive attributes and the target\n",
      "\n",
      "    :Attribute Information:\n",
      "        - MedInc        median income in block\n",
      "        - HouseAge      median house age in block\n",
      "        - AveRooms      average number of rooms\n",
      "        - AveBedrms     average number of bedrooms\n",
      "        - Population    block population\n",
      "        - AveOccup      average house occupancy\n",
      "        - Latitude      house block latitude\n",
      "        - Longitude     house block longitude\n",
      "\n",
      "    :Missing Attribute Values: None\n",
      "\n",
      "This dataset was obtained from the StatLib repository.\n",
      "http://lib.stat.cmu.edu/datasets/\n",
      "\n",
      "The target variable is the median house value for California districts.\n",
      "\n",
      "This dataset was derived from the 1990 U.S. census, using one row per census\n",
      "block group. A block group is the smallest geographical unit for which the U.S.\n",
      "Census Bureau publishes sample data (a block group typically has a population\n",
      "of 600 to 3,000 people).\n",
      "\n",
      "It can be downloaded/loaded using the\n",
      ":func:`sklearn.datasets.fetch_california_housing` function.\n",
      "\n",
      ".. topic:: References\n",
      "\n",
      "    - Pace, R. Kelley and Ronald Barry, Sparse Spatial Autoregressions,\n",
      "      Statistics and Probability Letters, 33 (1997) 291-297\n",
      "\n",
      "(20640, 8)\n",
      "(20640,)\n"
     ]
    }
   ],
   "source": [
    "from sklearn.datasets import fetch_california_housing\n",
    "\n",
    "housing = fetch_california_housing()\n",
    "print (housing.DESCR)\n",
    "print (housing.data.shape)\n",
    "print (housing.target.shape)"
   ]
  },
  {
   "cell_type": "code",
   "execution_count": 3,
   "metadata": {},
   "outputs": [
    {
     "name": "stdout",
     "output_type": "stream",
     "text": [
      "(11610, 8) (11610,)\n",
      "(3870, 8) (3870,)\n",
      "(5160, 8) (5160,)\n"
     ]
    }
   ],
   "source": [
    "from sklearn.model_selection import train_test_split\n",
    "\n",
    "x_train_all, x_test, y_train_all, y_test = train_test_split(\n",
    "    housing.data, housing.target, random_state = 7, test_size=0.25)\n",
    "x_train, x_valid, y_train, y_valid = train_test_split(\n",
    "    x_train_all, y_train_all, random_state=11, test_size = 0.25)\n",
    "\n",
    "print (x_train.shape, y_train.shape)\n",
    "print (x_valid.shape, y_valid.shape)\n",
    "print (x_test.shape, y_test.shape)"
   ]
  },
  {
   "cell_type": "code",
   "execution_count": 4,
   "metadata": {},
   "outputs": [],
   "source": [
    "from sklearn.preprocessing import StandardScaler\n",
    "scaler = StandardScaler()\n",
    "x_train_scaled = scaler.fit_transform(x_train)  #这里使用fit_transform函数，因为在训练集上获得均值和方差，在验证集和测试集上面使用\n",
    "x_valid_scaled = scaler.transform(x_valid)\n",
    "x_test_scaled = scaler.transform(x_test)"
   ]
  },
  {
   "cell_type": "code",
   "execution_count": 5,
   "metadata": {},
   "outputs": [
    {
     "name": "stdout",
     "output_type": "stream",
     "text": [
      "Model: \"sequential\"\n",
      "_________________________________________________________________\n",
      "Layer (type)                 Output Shape              Param #   \n",
      "=================================================================\n",
      "dense (Dense)                (None, 30)                270       \n",
      "_________________________________________________________________\n",
      "dense_1 (Dense)              (None, 1)                 31        \n",
      "=================================================================\n",
      "Total params: 301\n",
      "Trainable params: 301\n",
      "Non-trainable params: 0\n",
      "_________________________________________________________________\n"
     ]
    }
   ],
   "source": [
    "def custoized_mse(y_true, y_pred):\n",
    "    return tf.reduce_mean(tf.square(y_pred - y_true))\n",
    "\n",
    "\n",
    "model = keras.models.Sequential([\n",
    "    keras.layers.Dense(30, activation ='relu',\n",
    "                      input_shape =x_train.shape[1:]),\n",
    "    keras.layers.Dense(1),\n",
    "])\n",
    "model.summary()\n",
    "model.compile(loss=custoized_mse, optimizer='sgd',\n",
    "             metrics =[\"mean_squared_error\"])\n",
    "callbacks = [keras.callbacks.EarlyStopping(\n",
    "    patience=5, min_delta=1e-3)]\n"
   ]
  },
  {
   "cell_type": "code",
   "execution_count": 10,
   "metadata": {},
   "outputs": [
    {
     "name": "stdout",
     "output_type": "stream",
     "text": [
      "Train on 11610 samples, validate on 3870 samples\n",
      "Epoch 1/100\n",
      "11610/11610 [==============================] - 1s 57us/sample - loss: 0.3329 - mean_squared_error: 0.3329 - val_loss: 0.3499 - val_mean_squared_error: 0.3499\n",
      "Epoch 2/100\n",
      "11610/11610 [==============================] - 1s 48us/sample - loss: 0.3318 - mean_squared_error: 0.3318 - val_loss: 0.3464 - val_mean_squared_error: 0.3464\n",
      "Epoch 3/100\n",
      "11610/11610 [==============================] - 1s 53us/sample - loss: 0.3300 - mean_squared_error: 0.3300 - val_loss: 0.4098 - val_mean_squared_error: 0.4098\n",
      "Epoch 4/100\n",
      "11610/11610 [==============================] - 1s 51us/sample - loss: 0.3317 - mean_squared_error: 0.3317 - val_loss: 0.3578 - val_mean_squared_error: 0.3578\n",
      "Epoch 5/100\n",
      "11610/11610 [==============================] - 1s 46us/sample - loss: 0.3288 - mean_squared_error: 0.3288 - val_loss: 0.3568 - val_mean_squared_error: 0.3568\n",
      "Epoch 6/100\n",
      "11610/11610 [==============================] - 1s 62us/sample - loss: 0.3267 - mean_squared_error: 0.3267 - val_loss: 0.3421 - val_mean_squared_error: 0.3421\n",
      "Epoch 7/100\n",
      "11610/11610 [==============================] - 1s 53us/sample - loss: 0.3278 - mean_squared_error: 0.3278 - val_loss: 0.3406 - val_mean_squared_error: 0.3406\n",
      "Epoch 8/100\n",
      "11610/11610 [==============================] - 1s 49us/sample - loss: 0.3264 - mean_squared_error: 0.3264 - val_loss: 0.3395 - val_mean_squared_error: 0.3395\n",
      "Epoch 9/100\n",
      "11610/11610 [==============================] - 1s 51us/sample - loss: 0.3245 - mean_squared_error: 0.3245 - val_loss: 0.3369 - val_mean_squared_error: 0.3369\n",
      "Epoch 10/100\n",
      "11610/11610 [==============================] - 1s 49us/sample - loss: 0.3252 - mean_squared_error: 0.3252 - val_loss: 0.3438 - val_mean_squared_error: 0.3438\n",
      "Epoch 11/100\n",
      "11610/11610 [==============================] - 1s 46us/sample - loss: 0.3255 - mean_squared_error: 0.3255 - val_loss: 0.3373 - val_mean_squared_error: 0.3373\n",
      "Epoch 12/100\n",
      "11610/11610 [==============================] - 1s 50us/sample - loss: 0.3238 - mean_squared_error: 0.3238 - val_loss: 0.3413 - val_mean_squared_error: 0.3413\n",
      "Epoch 13/100\n",
      "11610/11610 [==============================] - 1s 47us/sample - loss: 0.3227 - mean_squared_error: 0.3227 - val_loss: 0.3348 - val_mean_squared_error: 0.3348\n",
      "Epoch 14/100\n",
      "11610/11610 [==============================] - 1s 49us/sample - loss: 0.3233 - mean_squared_error: 0.3233 - val_loss: 0.4089 - val_mean_squared_error: 0.4089\n",
      "Epoch 15/100\n",
      "11610/11610 [==============================] - 1s 49us/sample - loss: 0.3207 - mean_squared_error: 0.3207 - val_loss: 0.3325 - val_mean_squared_error: 0.3325\n",
      "Epoch 16/100\n",
      "11610/11610 [==============================] - 1s 47us/sample - loss: 0.3194 - mean_squared_error: 0.3194 - val_loss: 0.3361 - val_mean_squared_error: 0.3361\n",
      "Epoch 17/100\n",
      "11610/11610 [==============================] - 1s 47us/sample - loss: 0.3279 - mean_squared_error: 0.3279 - val_loss: 0.3474 - val_mean_squared_error: 0.3474\n",
      "Epoch 18/100\n",
      "11610/11610 [==============================] - 1s 101us/sample - loss: 0.3245 - mean_squared_error: 0.3245 - val_loss: 0.3367 - val_mean_squared_error: 0.3367\n",
      "Epoch 19/100\n",
      "11610/11610 [==============================] - 1s 48us/sample - loss: 0.3307 - mean_squared_error: 0.3307 - val_loss: 0.3577 - val_mean_squared_error: 0.3577\n",
      "Epoch 20/100\n",
      "11610/11610 [==============================] - 1s 48us/sample - loss: 0.3201 - mean_squared_error: 0.3201 - val_loss: 0.3416 - val_mean_squared_error: 0.3416\n"
     ]
    }
   ],
   "source": [
    "history = model.fit(x_train_scaled,y_train,\n",
    "                   validation_data=(x_valid_scaled,y_valid),\n",
    "                   epochs=100,\n",
    "                   callbacks=callbacks)"
   ]
  },
  {
   "cell_type": "code",
   "execution_count": 9,
   "metadata": {},
   "outputs": [
    {
     "data": {
      "image/png": "[encoded data removed]",
      "text/plain": [
       "<Figure size 576x360 with 1 Axes>"
      ]
     },
     "metadata": {
      "needs_background": "light"
     },
     "output_type": "display_data"
    }
   ],
   "source": [
    "def plot_learning_curves(history):\n",
    "    pd.DataFrame(history.history).plot(figsize=(8,5))\n",
    "    plt.grid(True)\n",
    "    plt.gca().set_ylim(0,1)\n",
    "\n",
    "    plt.show()\n",
    "    \n",
    "plot_learning_curves(history)"
   ]
  },
  {
   "cell_type": "code",
   "execution_count": null,
   "metadata": {},
   "outputs": [],
   "source": []
  },
  {
   "cell_type": "code",
   "execution_count": null,
   "metadata": {},
   "outputs": [],
   "source": []
  },
  {
   "cell_type": "code",
   "execution_count": null,
   "metadata": {},
   "outputs": [],
   "source": []
  }
 ],
 "metadata": {
  "kernelspec": {
   "display_name": "Python 3",
   "language": "python",
   "name": "python3"
  },
  "language_info": {
   "codemirror_mode": {
    "name": "ipython",
    "version": 3
   },
   "file_extension": ".py",
   "mimetype": "text/x-python",
   "name": "python",
   "nbconvert_exporter": "python",
   "pygments_lexer": "ipython3",
   "version": "3.6.8"
  }
 },
 "nbformat": 4,
 "nbformat_minor": 2
}
