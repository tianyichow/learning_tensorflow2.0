{
 "cells": [
  {
   "cell_type": "code",
   "execution_count": 13,
   "metadata": {},
   "outputs": [
    {
     "name": "stdout",
     "output_type": "stream",
     "text": [
      "2.0.0-beta1\n",
      "sys.version_info(major=3, minor=6, micro=8, releaselevel='final', serial=0)\n",
      "matplotlib 3.1.1\n",
      "numpy 1.16.4\n",
      "pandas 0.24.2\n",
      "sklearn 0.21.2\n",
      "tensorflow 2.0.0-beta1\n",
      "tensorflow.python.keras.api._v2.keras 2.2.4-tf\n"
     ]
    }
   ],
   "source": [
    "import matplotlib as mpl\n",
    "import matplotlib.pyplot as plt\n",
    "%matplotlib inline\n",
    "import numpy as np\n",
    "import pandas as pd\n",
    "import sklearn\n",
    "import os\n",
    "import sys\n",
    "import time\n",
    "import tensorflow as tf\n",
    "from tensorflow import keras\n",
    "\n",
    "print (tf.__version__)\n",
    "print (sys.version_info)\n",
    "for module in  mpl, np, pd, sklearn, tf, keras:\n",
    "    print (module.__name__, module.__version__)"
   ]
  },
  {
   "cell_type": "code",
   "execution_count": 14,
   "metadata": {},
   "outputs": [
    {
     "name": "stdout",
     "output_type": "stream",
     "text": [
      "   survived     sex   age  n_siblings_spouses  parch     fare  class     deck  \\\n",
      "0         0    male  22.0                   1      0   7.2500  Third  unknown   \n",
      "1         1  female  38.0                   1      0  71.2833  First        C   \n",
      "2         1  female  26.0                   0      0   7.9250  Third  unknown   \n",
      "3         1  female  35.0                   1      0  53.1000  First        C   \n",
      "4         0    male  28.0                   0      0   8.4583  Third  unknown   \n",
      "\n",
      "   embark_town alone  \n",
      "0  Southampton     n  \n",
      "1    Cherbourg     n  \n",
      "2  Southampton     y  \n",
      "3  Southampton     n  \n",
      "4   Queenstown     y  \n",
      "   survived     sex   age  n_siblings_spouses  parch     fare   class  \\\n",
      "0         0    male  35.0                   0      0   8.0500   Third   \n",
      "1         0    male  54.0                   0      0  51.8625   First   \n",
      "2         1  female  58.0                   0      0  26.5500   First   \n",
      "3         1  female  55.0                   0      0  16.0000  Second   \n",
      "4         1    male  34.0                   0      0  13.0000  Second   \n",
      "\n",
      "      deck  embark_town alone  \n",
      "0  unknown  Southampton     y  \n",
      "1        E  Southampton     y  \n",
      "2        C  Southampton     y  \n",
      "3  unknown  Southampton     y  \n",
      "4        D  Southampton     y  \n"
     ]
    }
   ],
   "source": [
    "train_file = \"./data/titanic/train.csv\"\n",
    "eval_file = \"./data/titanic/eval.csv\"\n",
    "\n",
    "train_df = pd.read_csv(train_file)\n",
    "eval_df = pd.read_csv(eval_file)\n",
    "\n",
    "print (train_df.head())\n",
    "print (eval_df.head())"
   ]
  },
  {
   "cell_type": "code",
   "execution_count": 15,
   "metadata": {},
   "outputs": [],
   "source": [
    "# '''\n",
    "# 神器：一行代码生成详细数据分析报告\n",
    "# '''\n",
    "# import pandas_profiling\n",
    "# profile=train_df.profile_report(title=\"Titanic\")\n",
    "# profile"
   ]
  },
  {
   "cell_type": "code",
   "execution_count": 16,
   "metadata": {},
   "outputs": [
    {
     "name": "stdout",
     "output_type": "stream",
     "text": [
      "      sex   age  n_siblings_spouses  parch     fare  class     deck  \\\n",
      "0    male  22.0                   1      0   7.2500  Third  unknown   \n",
      "1  female  38.0                   1      0  71.2833  First        C   \n",
      "2  female  26.0                   0      0   7.9250  Third  unknown   \n",
      "3  female  35.0                   1      0  53.1000  First        C   \n",
      "4    male  28.0                   0      0   8.4583  Third  unknown   \n",
      "\n",
      "   embark_town alone  \n",
      "0  Southampton     n  \n",
      "1    Cherbourg     n  \n",
      "2  Southampton     y  \n",
      "3  Southampton     n  \n",
      "4   Queenstown     y  \n",
      "      sex   age  n_siblings_spouses  parch     fare   class     deck  \\\n",
      "0    male  35.0                   0      0   8.0500   Third  unknown   \n",
      "1    male  54.0                   0      0  51.8625   First        E   \n",
      "2  female  58.0                   0      0  26.5500   First        C   \n",
      "3  female  55.0                   0      0  16.0000  Second  unknown   \n",
      "4    male  34.0                   0      0  13.0000  Second        D   \n",
      "\n",
      "   embark_town alone  \n",
      "0  Southampton     y  \n",
      "1  Southampton     y  \n",
      "2  Southampton     y  \n",
      "3  Southampton     y  \n",
      "4  Southampton     y  \n",
      "0    0\n",
      "1    1\n",
      "2    1\n",
      "3    1\n",
      "4    0\n",
      "Name: survived, dtype: int64\n",
      "0    0\n",
      "1    0\n",
      "2    1\n",
      "3    1\n",
      "4    1\n",
      "Name: survived, dtype: int64\n"
     ]
    }
   ],
   "source": [
    "y_train = train_df.pop('survived')\n",
    "y_eval = eval_df.pop('survived')\n",
    "\n",
    "print (train_df.head())\n",
    "print (eval_df.head())\n",
    "print (y_train.head())\n",
    "print (y_eval.head())"
   ]
  },
  {
   "cell_type": "code",
   "execution_count": 17,
   "metadata": {},
   "outputs": [
    {
     "data": {
      "text/html": [
       "<div>\n",
       "<style scoped>\n",
       "    .dataframe tbody tr th:only-of-type {\n",
       "        vertical-align: middle;\n",
       "    }\n",
       "\n",
       "    .dataframe tbody tr th {\n",
       "        vertical-align: top;\n",
       "    }\n",
       "\n",
       "    .dataframe thead th {\n",
       "        text-align: right;\n",
       "    }\n",
       "</style>\n",
       "<table border=\"1\" class=\"dataframe\">\n",
       "  <thead>\n",
       "    <tr style=\"text-align: right;\">\n",
       "      <th></th>\n",
       "      <th>age</th>\n",
       "      <th>n_siblings_spouses</th>\n",
       "      <th>parch</th>\n",
       "      <th>fare</th>\n",
       "    </tr>\n",
       "  </thead>\n",
       "  <tbody>\n",
       "    <tr>\n",
       "      <th>count</th>\n",
       "      <td>627.000000</td>\n",
       "      <td>627.000000</td>\n",
       "      <td>627.000000</td>\n",
       "      <td>627.000000</td>\n",
       "    </tr>\n",
       "    <tr>\n",
       "      <th>mean</th>\n",
       "      <td>29.631308</td>\n",
       "      <td>0.545455</td>\n",
       "      <td>0.379585</td>\n",
       "      <td>34.385399</td>\n",
       "    </tr>\n",
       "    <tr>\n",
       "      <th>std</th>\n",
       "      <td>12.511818</td>\n",
       "      <td>1.151090</td>\n",
       "      <td>0.792999</td>\n",
       "      <td>54.597730</td>\n",
       "    </tr>\n",
       "    <tr>\n",
       "      <th>min</th>\n",
       "      <td>0.750000</td>\n",
       "      <td>0.000000</td>\n",
       "      <td>0.000000</td>\n",
       "      <td>0.000000</td>\n",
       "    </tr>\n",
       "    <tr>\n",
       "      <th>25%</th>\n",
       "      <td>23.000000</td>\n",
       "      <td>0.000000</td>\n",
       "      <td>0.000000</td>\n",
       "      <td>7.895800</td>\n",
       "    </tr>\n",
       "    <tr>\n",
       "      <th>50%</th>\n",
       "      <td>28.000000</td>\n",
       "      <td>0.000000</td>\n",
       "      <td>0.000000</td>\n",
       "      <td>15.045800</td>\n",
       "    </tr>\n",
       "    <tr>\n",
       "      <th>75%</th>\n",
       "      <td>35.000000</td>\n",
       "      <td>1.000000</td>\n",
       "      <td>0.000000</td>\n",
       "      <td>31.387500</td>\n",
       "    </tr>\n",
       "    <tr>\n",
       "      <th>max</th>\n",
       "      <td>80.000000</td>\n",
       "      <td>8.000000</td>\n",
       "      <td>5.000000</td>\n",
       "      <td>512.329200</td>\n",
       "    </tr>\n",
       "  </tbody>\n",
       "</table>\n",
       "</div>"
      ],
      "text/plain": [
       "              age  n_siblings_spouses       parch        fare\n",
       "count  627.000000          627.000000  627.000000  627.000000\n",
       "mean    29.631308            0.545455    0.379585   34.385399\n",
       "std     12.511818            1.151090    0.792999   54.597730\n",
       "min      0.750000            0.000000    0.000000    0.000000\n",
       "25%     23.000000            0.000000    0.000000    7.895800\n",
       "50%     28.000000            0.000000    0.000000   15.045800\n",
       "75%     35.000000            1.000000    0.000000   31.387500\n",
       "max     80.000000            8.000000    5.000000  512.329200"
      ]
     },
     "execution_count": 17,
     "metadata": {},
     "output_type": "execute_result"
    }
   ],
   "source": [
    "train_df.describe()"
   ]
  },
  {
   "cell_type": "code",
   "execution_count": 24,
   "metadata": {},
   "outputs": [
    {
     "data": {
      "text/plain": [
       "<matplotlib.axes._subplots.AxesSubplot at 0x13addf358>"
      ]
     },
     "execution_count": 24,
     "metadata": {},
     "output_type": "execute_result"
    },
    {
     "data": {
      "image/png": "[encoded data removed]",
      "text/plain": [
       "<Figure size 432x288 with 1 Axes>"
      ]
     },
     "metadata": {
      "needs_background": "light"
     },
     "output_type": "display_data"
    }
   ],
   "source": [
    "train_df.age.hist(bins = 20)"
   ]
  },
  {
   "cell_type": "code",
   "execution_count": 41,
   "metadata": {},
   "outputs": [
    {
     "data": {
      "text/plain": [
       "<matplotlib.axes._subplots.AxesSubplot at 0x140590e10>"
      ]
     },
     "execution_count": 41,
     "metadata": {},
     "output_type": "execute_result"
    },
    {
     "data": {
      "image/png": "[encoded data removed]",
      "text/plain": [
       "<Figure size 432x288 with 1 Axes>"
      ]
     },
     "metadata": {
      "needs_background": "light"
     },
     "output_type": "display_data"
    }
   ],
   "source": [
    "train_df.sex.value_counts().plot(kind ='barh')"
   ]
  },
  {
   "cell_type": "code",
   "execution_count": 40,
   "metadata": {},
   "outputs": [
    {
     "data": {
      "text/plain": [
       "<matplotlib.axes._subplots.AxesSubplot at 0x14053c3c8>"
      ]
     },
     "execution_count": 40,
     "metadata": {},
     "output_type": "execute_result"
    },
    {
     "data": {
      "image/png": "[encoded data removed]",
      "text/plain": [
       "<Figure size 432x288 with 1 Axes>"
      ]
     },
     "metadata": {
      "needs_background": "light"
     },
     "output_type": "display_data"
    }
   ],
   "source": [
    "# class用[]包着，因为命名冲突了\n",
    "# 其他的属性字段也可以用这个包着或者省略\n",
    "train_df['class'].value_counts().plot(kind = 'barh') \n"
   ]
  },
  {
   "cell_type": "code",
   "execution_count": 44,
   "metadata": {},
   "outputs": [
    {
     "data": {
      "text/plain": [
       "<matplotlib.axes._subplots.AxesSubplot at 0x140602dd8>"
      ]
     },
     "execution_count": 44,
     "metadata": {},
     "output_type": "execute_result"
    },
    {
     "data": {
      "image/png": "[encoded data removed]",
      "text/plain": [
       "<Figure size 432x288 with 1 Axes>"
      ]
     },
     "metadata": {
      "needs_background": "light"
     },
     "output_type": "display_data"
    }
   ],
   "source": [
    "pd.concat([train_df, y_train], axis = 1).groupby('sex').survived.mean() .plot(kind='barh')  "
   ]
  },
  {
   "cell_type": "code",
   "execution_count": 59,
   "metadata": {},
   "outputs": [
    {
     "name": "stdout",
     "output_type": "stream",
     "text": [
      "sex ['male' 'female']\n",
      "n_siblings_spouses [1 0 3 4 2 5 8]\n",
      "parch [0 1 2 5 3 4]\n",
      "class ['Third' 'First' 'Second']\n",
      "deck ['unknown' 'C' 'G' 'A' 'B' 'D' 'F' 'E']\n",
      "embark_town ['Southampton' 'Cherbourg' 'Queenstown' 'unknown']\n",
      "alone ['n' 'y']\n"
     ]
    }
   ],
   "source": [
    "## feature columns：本质是规则\n",
    "# 离散特征和连续特征\n",
    "\n",
    "categorical_columns = ['sex','n_siblings_spouses','parch', 'class',\n",
    "                     'deck', 'embark_town', 'alone']\n",
    "numeric_columns = ['age', 'fare']\n",
    "\n",
    "# feature_columns本质算是一个映射规则，定义了处理特征的方式。\n",
    "feature_columns =[]\n",
    "\n",
    "for categorical_column in categorical_columns:\n",
    "    vocab = train_df[categorical_column].unique() #获取不重复的值\n",
    "    print (categorical_column,vocab)\n",
    "    \n",
    "    #indicator_column用于处理成one_hot编码\n",
    "    feature_columns.append(\n",
    "        tf.feature_column.indicator_column(\n",
    "            tf.feature_column.categorical_column_with_vocabulary_list(\n",
    "                categorical_column, vocab)))\n",
    "    \n",
    "for numeric_column in numeric_columns:\n",
    "    feature_columns.append(\n",
    "        tf.feature_column.numeric_column(\n",
    "            numeric_column,dtype=tf.float32))\n"
   ]
  },
  {
   "cell_type": "code",
   "execution_count": 61,
   "metadata": {},
   "outputs": [],
   "source": [
    "#tf.feature_column.indicator_column?"
   ]
  },
  {
   "cell_type": "code",
   "execution_count": 71,
   "metadata": {},
   "outputs": [],
   "source": [
    "def make_dataset(data_df, label_df, epochs =10, shuffle = True,\n",
    "                batch_size = 32):\n",
    "    # 这里将dataframe类型的dataset处理未dictionary的形式再做处理\n",
    "    # Q：value的形式不可以么？\n",
    "    dataset = tf.data.Dataset.from_tensor_slices(\n",
    "        (dict(data_df), label_df))\n",
    "    if shuffle:\n",
    "        dataset = dataset.shuffle(10000)\n",
    "    dataset = dataset.repeat(epochs).batch(batch_size)\n",
    "    return dataset"
   ]
  },
  {
   "cell_type": "code",
   "execution_count": 76,
   "metadata": {},
   "outputs": [],
   "source": [
    "train_dataset = make_dataset(train_df, y_train, batch_size = 5)"
   ]
  },
  {
   "cell_type": "code",
   "execution_count": 79,
   "metadata": {},
   "outputs": [
    {
     "name": "stdout",
     "output_type": "stream",
     "text": [
      "{'sex': <tf.Tensor: id=183, shape=(5,), dtype=string, numpy=array([b'male', b'male', b'female', b'male', b'male'], dtype=object)>, 'age': <tf.Tensor: id=175, shape=(5,), dtype=float64, numpy=array([ 2., 21., 60., 28., 47.])>, 'n_siblings_spouses': <tf.Tensor: id=181, shape=(5,), dtype=int32, numpy=array([3, 0, 1, 0, 0], dtype=int32)>, 'parch': <tf.Tensor: id=182, shape=(5,), dtype=int32, numpy=array([1, 0, 0, 0, 0], dtype=int32)>, 'fare': <tf.Tensor: id=180, shape=(5,), dtype=float64, numpy=array([21.075 ,  8.6625, 75.25  ,  7.55  , 15.    ])>, 'class': <tf.Tensor: id=177, shape=(5,), dtype=string, numpy=array([b'Third', b'Third', b'First', b'Third', b'Second'], dtype=object)>, 'deck': <tf.Tensor: id=178, shape=(5,), dtype=string, numpy=array([b'unknown', b'unknown', b'D', b'unknown', b'unknown'], dtype=object)>, 'embark_town': <tf.Tensor: id=179, shape=(5,), dtype=string, numpy=\n",
      "array([b'Southampton', b'Southampton', b'Cherbourg', b'Southampton',\n",
      "       b'Southampton'], dtype=object)>, 'alone': <tf.Tensor: id=176, shape=(5,), dtype=string, numpy=array([b'n', b'y', b'n', b'y', b'y'], dtype=object)>}\n",
      "tf.Tensor([0 0 1 0 0], shape=(5,), dtype=int32)\n"
     ]
    }
   ],
   "source": [
    "for x, y in train_dataset.take(1):\n",
    "    print (x)\n",
    "    print (y)"
   ]
  },
  {
   "cell_type": "code",
   "execution_count": 98,
   "metadata": {},
   "outputs": [
    {
     "name": "stdout",
     "output_type": "stream",
     "text": [
      "[[ 2.]\n",
      " [21.]\n",
      " [60.]\n",
      " [28.]\n",
      " [47.]]\n",
      "tf.Tensor(\n",
      "[[1. 0.]\n",
      " [1. 0.]\n",
      " [0. 1.]\n",
      " [1. 0.]\n",
      " [1. 0.]], shape=(5, 2), dtype=float32)\n"
     ]
    }
   ],
   "source": [
    "# keras.layer.DenseFeature\n",
    "for x,y in train_dataset.take(1):\n",
    "    age_column = feature_columns[7]\n",
    "    gender_column = feature_columns[0]\n",
    "    print (keras.layers.DenseFeatures(age_column)(x).numpy())\n",
    "    print (keras.layers.DenseFeatures(gender_column)(x))"
   ]
  },
  {
   "cell_type": "code",
   "execution_count": 99,
   "metadata": {},
   "outputs": [
    {
     "name": "stdout",
     "output_type": "stream",
     "text": [
      "9\n",
      "[[ 2.      1.      0.      1.      0.      0.      1.      0.      0.\n",
      "   0.      0.      0.      0.      0.      1.      0.      0.      0.\n",
      "  21.075   0.      0.      1.      0.      0.      0.      0.      0.\n",
      "   1.      0.      0.      0.      0.      1.      0.    ]\n",
      " [21.      0.      1.      1.      0.      0.      1.      0.      0.\n",
      "   0.      0.      0.      0.      0.      1.      0.      0.      0.\n",
      "   8.6625  0.      1.      0.      0.      0.      0.      0.      1.\n",
      "   0.      0.      0.      0.      0.      1.      0.    ]\n",
      " [60.      1.      0.      0.      1.      0.      0.      0.      0.\n",
      "   0.      0.      1.      0.      0.      0.      1.      0.      0.\n",
      "  75.25    1.      0.      0.      0.      0.      0.      0.      1.\n",
      "   0.      0.      0.      0.      0.      0.      1.    ]\n",
      " [28.      0.      1.      1.      0.      0.      1.      0.      0.\n",
      "   0.      0.      0.      0.      0.      1.      0.      0.      0.\n",
      "   7.55    0.      1.      0.      0.      0.      0.      0.      1.\n",
      "   0.      0.      0.      0.      0.      1.      0.    ]\n",
      " [47.      0.      1.      0.      0.      1.      1.      0.      0.\n",
      "   0.      0.      0.      0.      0.      1.      0.      0.      0.\n",
      "  15.      0.      1.      0.      0.      0.      0.      0.      1.\n",
      "   0.      0.      0.      0.      0.      1.      0.    ]]\n"
     ]
    }
   ],
   "source": [
    "print (len(feature_columns))\n",
    "for x,y in train_dataset.take(1):\n",
    "    print (keras.layers.DenseFeatures(feature_columns)(x).numpy())"
   ]
  },
  {
   "cell_type": "code",
   "execution_count": 100,
   "metadata": {},
   "outputs": [],
   "source": [
    "model = keras.models.Sequential([\n",
    "    keras.layers.DenseFeatures(feature_columns),\n",
    "    keras.layers.Dense(100, activation='relu'),\n",
    "    keras.layers.Dense(100, activation='relu'),\n",
    "    keras.layers.Dense(2, activation='softmax'),\n",
    "])\n",
    "model.compile(loss='sparse_categorical_crossentropy',\n",
    "              optimizer = keras.optimizers.SGD(lr=0.01),\n",
    "              metrics = ['accuracy'])"
   ]
  },
  {
   "cell_type": "code",
   "execution_count": 101,
   "metadata": {},
   "outputs": [
    {
     "name": "stdout",
     "output_type": "stream",
     "text": [
      "Epoch 1/100\n",
      "20/20 [==============================] - 3s 143ms/step - loss: 1.8022 - accuracy: 0.5932 - val_loss: 0.6581 - val_accuracy: 0.6875\n",
      "Epoch 2/100\n",
      "20/20 [==============================] - 0s 5ms/step - loss: 0.8942 - accuracy: 0.6135 - val_loss: 0.6656 - val_accuracy: 0.6602\n",
      "Epoch 3/100\n",
      "20/20 [==============================] - 0s 5ms/step - loss: 0.7897 - accuracy: 0.6626 - val_loss: 0.6058 - val_accuracy: 0.6875\n",
      "Epoch 4/100\n",
      "20/20 [==============================] - 0s 7ms/step - loss: 0.6664 - accuracy: 0.6508 - val_loss: 0.6244 - val_accuracy: 0.6836\n",
      "Epoch 5/100\n",
      "20/20 [==============================] - 0s 11ms/step - loss: 0.6280 - accuracy: 0.6975 - val_loss: 0.5885 - val_accuracy: 0.6914\n",
      "Epoch 6/100\n",
      "20/20 [==============================] - 0s 6ms/step - loss: 0.6214 - accuracy: 0.6927 - val_loss: 0.6268 - val_accuracy: 0.6914\n",
      "Epoch 7/100\n",
      "20/20 [==============================] - 0s 6ms/step - loss: 0.6024 - accuracy: 0.6891 - val_loss: 0.5930 - val_accuracy: 0.6992\n",
      "Epoch 8/100\n",
      "20/20 [==============================] - 0s 10ms/step - loss: 0.6249 - accuracy: 0.6850 - val_loss: 0.5854 - val_accuracy: 0.6953\n",
      "Epoch 9/100\n",
      "20/20 [==============================] - 0s 7ms/step - loss: 0.5723 - accuracy: 0.6963 - val_loss: 0.5933 - val_accuracy: 0.6953\n",
      "Epoch 10/100\n",
      "20/20 [==============================] - 0s 10ms/step - loss: 0.6224 - accuracy: 0.6734 - val_loss: 0.6131 - val_accuracy: 0.6719\n",
      "Epoch 11/100\n",
      "20/20 [==============================] - 0s 7ms/step - loss: 0.6318 - accuracy: 0.6701 - val_loss: 0.5956 - val_accuracy: 0.6875\n",
      "Epoch 12/100\n",
      "20/20 [==============================] - 0s 8ms/step - loss: 0.5852 - accuracy: 0.6936 - val_loss: 0.5811 - val_accuracy: 0.7031\n",
      "Epoch 13/100\n",
      "20/20 [==============================] - 0s 7ms/step - loss: 0.6177 - accuracy: 0.7155 - val_loss: 0.5853 - val_accuracy: 0.6953\n",
      "Epoch 14/100\n",
      "20/20 [==============================] - 0s 8ms/step - loss: 0.5894 - accuracy: 0.6769 - val_loss: 0.5905 - val_accuracy: 0.6992\n",
      "Epoch 15/100\n",
      "20/20 [==============================] - 0s 8ms/step - loss: 0.5956 - accuracy: 0.7260 - val_loss: 0.5707 - val_accuracy: 0.7031\n",
      "Epoch 16/100\n",
      "20/20 [==============================] - 0s 6ms/step - loss: 0.5627 - accuracy: 0.7107 - val_loss: 0.5980 - val_accuracy: 0.6953\n",
      "Epoch 17/100\n",
      "20/20 [==============================] - 0s 5ms/step - loss: 0.5890 - accuracy: 0.7056 - val_loss: 0.5715 - val_accuracy: 0.7031\n",
      "Epoch 18/100\n",
      "20/20 [==============================] - 0s 6ms/step - loss: 0.5643 - accuracy: 0.7144 - val_loss: 0.5691 - val_accuracy: 0.7070\n",
      "Epoch 19/100\n",
      "20/20 [==============================] - 0s 9ms/step - loss: 0.5717 - accuracy: 0.7076 - val_loss: 0.5630 - val_accuracy: 0.7070\n",
      "Epoch 20/100\n",
      "20/20 [==============================] - 0s 8ms/step - loss: 0.5796 - accuracy: 0.7132 - val_loss: 0.5631 - val_accuracy: 0.7148\n",
      "Epoch 21/100\n",
      "20/20 [==============================] - 0s 8ms/step - loss: 0.5783 - accuracy: 0.7059 - val_loss: 0.5816 - val_accuracy: 0.6875\n",
      "Epoch 22/100\n",
      "20/20 [==============================] - 0s 9ms/step - loss: 0.6015 - accuracy: 0.6745 - val_loss: 0.5733 - val_accuracy: 0.6992\n",
      "Epoch 23/100\n",
      "20/20 [==============================] - 0s 7ms/step - loss: 0.5759 - accuracy: 0.7042 - val_loss: 0.5600 - val_accuracy: 0.6953\n",
      "Epoch 24/100\n",
      "20/20 [==============================] - 0s 10ms/step - loss: 0.5523 - accuracy: 0.7057 - val_loss: 0.5594 - val_accuracy: 0.6992\n",
      "Epoch 25/100\n",
      "20/20 [==============================] - 0s 12ms/step - loss: 0.5745 - accuracy: 0.7170 - val_loss: 0.6430 - val_accuracy: 0.6797\n",
      "Epoch 26/100\n",
      "20/20 [==============================] - 0s 9ms/step - loss: 0.5919 - accuracy: 0.6949 - val_loss: 0.5619 - val_accuracy: 0.7070\n",
      "Epoch 27/100\n",
      "20/20 [==============================] - 0s 9ms/step - loss: 0.5570 - accuracy: 0.7481 - val_loss: 0.5693 - val_accuracy: 0.7031\n",
      "Epoch 28/100\n",
      "20/20 [==============================] - 0s 6ms/step - loss: 0.5508 - accuracy: 0.7218 - val_loss: 0.5600 - val_accuracy: 0.7227\n",
      "Epoch 29/100\n",
      "20/20 [==============================] - 0s 7ms/step - loss: 0.5710 - accuracy: 0.6649 - val_loss: 0.5558 - val_accuracy: 0.7109\n",
      "Epoch 30/100\n",
      "20/20 [==============================] - 0s 6ms/step - loss: 0.5837 - accuracy: 0.7049 - val_loss: 0.5442 - val_accuracy: 0.7070\n",
      "Epoch 31/100\n",
      "20/20 [==============================] - 0s 6ms/step - loss: 0.5570 - accuracy: 0.7271 - val_loss: 0.5500 - val_accuracy: 0.7148\n",
      "Epoch 32/100\n",
      "20/20 [==============================] - 0s 8ms/step - loss: 0.5611 - accuracy: 0.7194 - val_loss: 0.6101 - val_accuracy: 0.7031\n",
      "Epoch 33/100\n",
      "20/20 [==============================] - 0s 6ms/step - loss: 0.5597 - accuracy: 0.7294 - val_loss: 0.5508 - val_accuracy: 0.6992\n",
      "Epoch 34/100\n",
      "20/20 [==============================] - 0s 6ms/step - loss: 0.5533 - accuracy: 0.6937 - val_loss: 0.6166 - val_accuracy: 0.6953\n",
      "Epoch 35/100\n",
      "20/20 [==============================] - 0s 6ms/step - loss: 0.5449 - accuracy: 0.7388 - val_loss: 0.5563 - val_accuracy: 0.7070\n",
      "Epoch 36/100\n",
      "20/20 [==============================] - 0s 5ms/step - loss: 0.5380 - accuracy: 0.7176 - val_loss: 0.5817 - val_accuracy: 0.7188\n",
      "Epoch 37/100\n",
      "20/20 [==============================] - 0s 6ms/step - loss: 0.5387 - accuracy: 0.7418 - val_loss: 0.5367 - val_accuracy: 0.7227\n",
      "Epoch 38/100\n",
      "20/20 [==============================] - 0s 6ms/step - loss: 0.5631 - accuracy: 0.7033 - val_loss: 0.5357 - val_accuracy: 0.7188\n",
      "Epoch 39/100\n",
      "20/20 [==============================] - 0s 6ms/step - loss: 0.5385 - accuracy: 0.7453 - val_loss: 0.5425 - val_accuracy: 0.7266\n",
      "Epoch 40/100\n",
      "20/20 [==============================] - 0s 6ms/step - loss: 0.5481 - accuracy: 0.7357 - val_loss: 0.5526 - val_accuracy: 0.7305\n",
      "Epoch 41/100\n",
      "20/20 [==============================] - 0s 6ms/step - loss: 0.5508 - accuracy: 0.7222 - val_loss: 0.5546 - val_accuracy: 0.6953\n",
      "Epoch 42/100\n",
      "20/20 [==============================] - 0s 6ms/step - loss: 0.5596 - accuracy: 0.6711 - val_loss: 0.5390 - val_accuracy: 0.7266\n",
      "Epoch 43/100\n",
      "20/20 [==============================] - 0s 6ms/step - loss: 0.5560 - accuracy: 0.7644 - val_loss: 0.5383 - val_accuracy: 0.7148\n",
      "Epoch 44/100\n",
      "20/20 [==============================] - 0s 5ms/step - loss: 0.5713 - accuracy: 0.7225 - val_loss: 0.5400 - val_accuracy: 0.7383\n",
      "Epoch 45/100\n",
      "20/20 [==============================] - 0s 8ms/step - loss: 0.5468 - accuracy: 0.7227 - val_loss: 0.5287 - val_accuracy: 0.7109\n",
      "Epoch 46/100\n",
      "20/20 [==============================] - 0s 12ms/step - loss: 0.5353 - accuracy: 0.7425 - val_loss: 0.5363 - val_accuracy: 0.6953\n",
      "Epoch 47/100\n",
      "20/20 [==============================] - 0s 6ms/step - loss: 0.5294 - accuracy: 0.7362 - val_loss: 0.5363 - val_accuracy: 0.7148\n",
      "Epoch 48/100\n",
      "20/20 [==============================] - 0s 5ms/step - loss: 0.5391 - accuracy: 0.7616 - val_loss: 0.5342 - val_accuracy: 0.7383\n",
      "Epoch 49/100\n",
      "20/20 [==============================] - 0s 5ms/step - loss: 0.5650 - accuracy: 0.7303 - val_loss: 0.5486 - val_accuracy: 0.7227\n",
      "Epoch 50/100\n",
      "20/20 [==============================] - 0s 6ms/step - loss: 0.5485 - accuracy: 0.7309 - val_loss: 0.5789 - val_accuracy: 0.7227\n",
      "Epoch 51/100\n",
      "20/20 [==============================] - 0s 13ms/step - loss: 0.5338 - accuracy: 0.7433 - val_loss: 0.5401 - val_accuracy: 0.7109\n",
      "Epoch 52/100\n",
      "20/20 [==============================] - 0s 6ms/step - loss: 0.5624 - accuracy: 0.7152 - val_loss: 0.5698 - val_accuracy: 0.7148\n",
      "Epoch 53/100\n",
      "20/20 [==============================] - 0s 7ms/step - loss: 0.5432 - accuracy: 0.7347 - val_loss: 0.5417 - val_accuracy: 0.7188\n",
      "Epoch 54/100\n",
      "20/20 [==============================] - 0s 6ms/step - loss: 0.5641 - accuracy: 0.6932 - val_loss: 0.5544 - val_accuracy: 0.7148\n",
      "Epoch 55/100\n",
      "20/20 [==============================] - 0s 6ms/step - loss: 0.5435 - accuracy: 0.6968 - val_loss: 0.5294 - val_accuracy: 0.7266\n",
      "Epoch 56/100\n",
      "20/20 [==============================] - 0s 12ms/step - loss: 0.5442 - accuracy: 0.7517 - val_loss: 0.5202 - val_accuracy: 0.7344\n",
      "Epoch 57/100\n",
      "20/20 [==============================] - 0s 6ms/step - loss: 0.5396 - accuracy: 0.7146 - val_loss: 0.5355 - val_accuracy: 0.7227\n",
      "Epoch 58/100\n",
      "20/20 [==============================] - 0s 8ms/step - loss: 0.5328 - accuracy: 0.7576 - val_loss: 0.5329 - val_accuracy: 0.7188\n",
      "Epoch 59/100\n",
      "20/20 [==============================] - 0s 9ms/step - loss: 0.5636 - accuracy: 0.7139 - val_loss: 0.5426 - val_accuracy: 0.6836\n",
      "Epoch 60/100\n",
      "20/20 [==============================] - 0s 8ms/step - loss: 0.5532 - accuracy: 0.6420 - val_loss: 0.5579 - val_accuracy: 0.7227\n",
      "Epoch 61/100\n",
      "20/20 [==============================] - 0s 10ms/step - loss: 0.5246 - accuracy: 0.7787 - val_loss: 0.5118 - val_accuracy: 0.7656\n",
      "Epoch 62/100\n",
      "20/20 [==============================] - 0s 9ms/step - loss: 0.5281 - accuracy: 0.7492 - val_loss: 0.5273 - val_accuracy: 0.7188\n",
      "Epoch 63/100\n",
      "20/20 [==============================] - 0s 8ms/step - loss: 0.5325 - accuracy: 0.7280 - val_loss: 0.5123 - val_accuracy: 0.7539\n",
      "Epoch 64/100\n",
      "20/20 [==============================] - 0s 11ms/step - loss: 0.5565 - accuracy: 0.7632 - val_loss: 0.5265 - val_accuracy: 0.7461\n",
      "Epoch 65/100\n",
      "20/20 [==============================] - 0s 8ms/step - loss: 0.5713 - accuracy: 0.7219 - val_loss: 0.5142 - val_accuracy: 0.7344\n",
      "Epoch 66/100\n",
      "20/20 [==============================] - 0s 6ms/step - loss: 0.5185 - accuracy: 0.7881 - val_loss: 0.5139 - val_accuracy: 0.7344\n",
      "Epoch 67/100\n",
      "20/20 [==============================] - 0s 6ms/step - loss: 0.5289 - accuracy: 0.7290 - val_loss: 0.5159 - val_accuracy: 0.7461\n",
      "Epoch 68/100\n",
      "20/20 [==============================] - 0s 7ms/step - loss: 0.5581 - accuracy: 0.7432 - val_loss: 0.5118 - val_accuracy: 0.7383\n",
      "Epoch 69/100\n",
      "20/20 [==============================] - 0s 6ms/step - loss: 0.5041 - accuracy: 0.7514 - val_loss: 0.6038 - val_accuracy: 0.6406\n",
      "Epoch 70/100\n",
      "20/20 [==============================] - 0s 8ms/step - loss: 0.5376 - accuracy: 0.7321 - val_loss: 0.5077 - val_accuracy: 0.7305\n",
      "Epoch 71/100\n",
      "20/20 [==============================] - 0s 10ms/step - loss: 0.5528 - accuracy: 0.7070 - val_loss: 0.5102 - val_accuracy: 0.7344\n",
      "Epoch 72/100\n",
      "20/20 [==============================] - 0s 8ms/step - loss: 0.5411 - accuracy: 0.7131 - val_loss: 0.5146 - val_accuracy: 0.7344\n",
      "Epoch 73/100\n",
      "20/20 [==============================] - 0s 10ms/step - loss: 0.5110 - accuracy: 0.7534 - val_loss: 0.5031 - val_accuracy: 0.7578\n",
      "Epoch 74/100\n",
      "20/20 [==============================] - 0s 8ms/step - loss: 0.5795 - accuracy: 0.6957 - val_loss: 0.5700 - val_accuracy: 0.7227\n",
      "Epoch 75/100\n",
      "20/20 [==============================] - 0s 8ms/step - loss: 0.4900 - accuracy: 0.7863 - val_loss: 0.5310 - val_accuracy: 0.7422\n",
      "Epoch 76/100\n",
      "20/20 [==============================] - 0s 10ms/step - loss: 0.5116 - accuracy: 0.7680 - val_loss: 0.5315 - val_accuracy: 0.7344\n",
      "Epoch 77/100\n",
      "20/20 [==============================] - 0s 7ms/step - loss: 0.5349 - accuracy: 0.7241 - val_loss: 0.5445 - val_accuracy: 0.7305\n",
      "Epoch 78/100\n",
      "20/20 [==============================] - 0s 7ms/step - loss: 0.5308 - accuracy: 0.7520 - val_loss: 0.5037 - val_accuracy: 0.7734\n",
      "Epoch 79/100\n",
      "20/20 [==============================] - 0s 7ms/step - loss: 0.5060 - accuracy: 0.7594 - val_loss: 0.5399 - val_accuracy: 0.7227\n",
      "Epoch 80/100\n",
      "20/20 [==============================] - 0s 6ms/step - loss: 0.5021 - accuracy: 0.7636 - val_loss: 0.5175 - val_accuracy: 0.7578\n",
      "Epoch 81/100\n",
      "20/20 [==============================] - 0s 7ms/step - loss: 0.5373 - accuracy: 0.7388 - val_loss: 0.5411 - val_accuracy: 0.7422\n",
      "Epoch 82/100\n",
      "20/20 [==============================] - 0s 9ms/step - loss: 0.5323 - accuracy: 0.7664 - val_loss: 0.5054 - val_accuracy: 0.7500\n",
      "Epoch 83/100\n",
      "20/20 [==============================] - 0s 7ms/step - loss: 0.5230 - accuracy: 0.7308 - val_loss: 0.5673 - val_accuracy: 0.6562\n",
      "Epoch 84/100\n",
      "20/20 [==============================] - 0s 8ms/step - loss: 0.5314 - accuracy: 0.7320 - val_loss: 0.5171 - val_accuracy: 0.7344\n",
      "Epoch 85/100\n",
      "20/20 [==============================] - 0s 7ms/step - loss: 0.5193 - accuracy: 0.7613 - val_loss: 0.5181 - val_accuracy: 0.7305\n",
      "Epoch 86/100\n",
      "20/20 [==============================] - 0s 7ms/step - loss: 0.5103 - accuracy: 0.7332 - val_loss: 0.5029 - val_accuracy: 0.7422\n",
      "Epoch 87/100\n",
      "20/20 [==============================] - 0s 7ms/step - loss: 0.5119 - accuracy: 0.7522 - val_loss: 0.5067 - val_accuracy: 0.7422\n",
      "Epoch 88/100\n",
      "20/20 [==============================] - 0s 6ms/step - loss: 0.5404 - accuracy: 0.7444 - val_loss: 0.5425 - val_accuracy: 0.7539\n",
      "Epoch 89/100\n",
      "20/20 [==============================] - 0s 5ms/step - loss: 0.5552 - accuracy: 0.7409 - val_loss: 0.5115 - val_accuracy: 0.7422\n",
      "Epoch 90/100\n",
      "20/20 [==============================] - 0s 7ms/step - loss: 0.4912 - accuracy: 0.7804 - val_loss: 0.5230 - val_accuracy: 0.7383\n",
      "Epoch 91/100\n",
      "20/20 [==============================] - 0s 8ms/step - loss: 0.5022 - accuracy: 0.7767 - val_loss: 0.5144 - val_accuracy: 0.7461\n",
      "Epoch 92/100\n",
      "20/20 [==============================] - 0s 6ms/step - loss: 0.5109 - accuracy: 0.7553 - val_loss: 0.5357 - val_accuracy: 0.7734\n",
      "Epoch 93/100\n",
      "20/20 [==============================] - 0s 5ms/step - loss: 0.5188 - accuracy: 0.7681 - val_loss: 0.5149 - val_accuracy: 0.7383\n",
      "Epoch 94/100\n",
      "20/20 [==============================] - 0s 6ms/step - loss: 0.5355 - accuracy: 0.7514 - val_loss: 0.6215 - val_accuracy: 0.7109\n",
      "Epoch 95/100\n",
      "20/20 [==============================] - 0s 5ms/step - loss: 0.5141 - accuracy: 0.7352 - val_loss: 0.5622 - val_accuracy: 0.7188\n",
      "Epoch 96/100\n",
      "20/20 [==============================] - 0s 6ms/step - loss: 0.5013 - accuracy: 0.7762 - val_loss: 0.5333 - val_accuracy: 0.7539\n",
      "Epoch 97/100\n",
      "20/20 [==============================] - 0s 9ms/step - loss: 0.5024 - accuracy: 0.7763 - val_loss: 0.4947 - val_accuracy: 0.7461\n",
      "Epoch 98/100\n",
      "20/20 [==============================] - 0s 13ms/step - loss: 0.5241 - accuracy: 0.7450 - val_loss: 0.7282 - val_accuracy: 0.6172\n"
     ]
    },
    {
     "name": "stderr",
     "output_type": "stream",
     "text": [
      "W0829 17:25:58.113163 4719060416 training_generator.py:235] Your dataset ran out of data; interrupting training. Make sure that your dataset can generate at least `steps_per_epoch * epochs` batches (in this case, 2000 batches). You may need to use the repeat() function when building your dataset.\n"
     ]
    },
    {
     "name": "stdout",
     "output_type": "stream",
     "text": [
      "Epoch 99/100\n",
      " 0/20 [..............................] - ETA: 0s - loss: 0.0000e+00 - accuracy: 0.0000e+00 - val_loss: 0.0000e+00 - val_accuracy: 0.0000e+00"
     ]
    }
   ],
   "source": [
    "# 1. model.fit \n",
    "# 2. model -> estimator -> train\n",
    "\n",
    "train_dataset = make_dataset(train_df, y_train, epochs = 100)\n",
    "eval_dataset = make_dataset(eval_df, y_eval, epochs = 1, shuffle = False)\n",
    "history = model.fit(train_dataset,\n",
    "                    validation_data = eval_dataset,\n",
    "                    steps_per_epoch = 20,\n",
    "                    validation_steps = 8,\n",
    "                    epochs = 100)"
   ]
  },
  {
   "cell_type": "code",
   "execution_count": 103,
   "metadata": {},
   "outputs": [],
   "source": [
    "estimator = keras.estimator.model_to_estimator(model)\n",
    "'''\n",
    " input_fn: \n",
    " 1 must to be a funciton  \n",
    " 2 return (feature,label)  dataset ->(feature,label) \n",
    "'''\n",
    "estimator.train(input_fn = lambda : make_dataset(\n",
    "    train_df, y_train, epochs=100))\n"
   ]
  },
  {
   "cell_type": "code",
   "execution_count": 104,
   "metadata": {},
   "outputs": [
    {
     "name": "stdout",
     "output_type": "stream",
     "text": [
      "<function <lambda> at 0x14294e598>\n"
     ]
    }
   ],
   "source": [
    "print(a)"
   ]
  },
  {
   "cell_type": "code",
   "execution_count": null,
   "metadata": {},
   "outputs": [],
   "source": []
  }
 ],
 "metadata": {
  "kernelspec": {
   "display_name": "Python 3",
   "language": "python",
   "name": "python3"
  },
  "language_info": {
   "codemirror_mode": {
    "name": "ipython",
    "version": 3
   },
   "file_extension": ".py",
   "mimetype": "text/x-python",
   "name": "python",
   "nbconvert_exporter": "python",
   "pygments_lexer": "ipython3",
   "version": "3.6.8"
  }
 },
 "nbformat": 4,
 "nbformat_minor": 2
}
