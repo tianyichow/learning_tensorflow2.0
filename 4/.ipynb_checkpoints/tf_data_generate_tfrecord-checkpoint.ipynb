{
 "cells": [
  {
   "cell_type": "code",
   "execution_count": 2,
   "metadata": {},
   "outputs": [
    {
     "name": "stdout",
     "output_type": "stream",
     "text": [
      "2.0.0-beta1\n",
      "sys.version_info(major=3, minor=6, micro=8, releaselevel='final', serial=0)\n",
      "matplotlib 3.1.1\n",
      "numpy 1.16.4\n",
      "pandas 0.24.2\n",
      "sklearn 0.21.2\n",
      "tensorflow 2.0.0-beta1\n",
      "tensorflow.python.keras.api._v2.keras 2.2.4-tf\n"
     ]
    }
   ],
   "source": [
    "import matplotlib as mpl\n",
    "import matplotlib.pyplot as plt\n",
    "%matplotlib inline\n",
    "import numpy as np\n",
    "import sklearn\n",
    "import pandas as pd\n",
    "import os\n",
    "import sys\n",
    "import time\n",
    "import tensorflow as tf\n",
    "\n",
    "from tensorflow import keras\n",
    "\n",
    "print(tf.__version__)\n",
    "print(sys.version_info)\n",
    "for module in mpl, np, pd, sklearn, tf, keras:\n",
    "    print(module.__name__, module.__version__)"
   ]
  },
  {
   "cell_type": "code",
   "execution_count": 8,
   "metadata": {},
   "outputs": [
    {
     "name": "stdout",
     "output_type": "stream",
     "text": [
      "['./generate_csv/train_15.csv',\n",
      " './generate_csv/train_01.csv',\n",
      " './generate_csv/train_00.csv',\n",
      " './generate_csv/train_14.csv',\n",
      " './generate_csv/train_02.csv',\n",
      " './generate_csv/train_16.csv',\n",
      " './generate_csv/train_17.csv',\n",
      " './generate_csv/train_03.csv',\n",
      " './generate_csv/train_07.csv',\n",
      " './generate_csv/train_13.csv',\n",
      " './generate_csv/train_12.csv',\n",
      " './generate_csv/train_06.csv',\n",
      " './generate_csv/train_10.csv',\n",
      " './generate_csv/train_04.csv',\n",
      " './generate_csv/train_05.csv',\n",
      " './generate_csv/train_11.csv',\n",
      " './generate_csv/train_08.csv',\n",
      " './generate_csv/train_09.csv',\n",
      " './generate_csv/train_19.csv',\n",
      " './generate_csv/train_18.csv']\n"
     ]
    }
   ],
   "source": [
    "root_dir = \"./generate_csv/\"\n",
    "\n",
    "def get_file_by_prefix(root_dir,prefix):\n",
    "    all_file = os.listdir(root_dir)\n",
    "    results = []\n",
    "    for filename in all_file:\n",
    "        if filename.startswith(prefix):\n",
    "            results.append(os.path.join(root_dir,filename))\n",
    "    return results\n",
    "\n",
    "train_filenames = get_file_by_prefix(root_dir,\"train\")\n",
    "valid_filenames = get_file_by_prefix(root_dir,\"valid\")\n",
    "test_filenames = get_file_by_prefix(root_dir,\"test\")\n",
    "import pprint \n",
    "pprint.pprint (train_filenames)"
   ]
  },
  {
   "cell_type": "code",
   "execution_count": null,
   "metadata": {},
   "outputs": [],
   "source": []
  }
 ],
 "metadata": {
  "kernelspec": {
   "display_name": "Python 3",
   "language": "python",
   "name": "python3"
  },
  "language_info": {
   "codemirror_mode": {
    "name": "ipython",
    "version": 3
   },
   "file_extension": ".py",
   "mimetype": "text/x-python",
   "name": "python",
   "nbconvert_exporter": "python",
   "pygments_lexer": "ipython3",
   "version": "3.6.8"
  }
 },
 "nbformat": 4,
 "nbformat_minor": 2
}
