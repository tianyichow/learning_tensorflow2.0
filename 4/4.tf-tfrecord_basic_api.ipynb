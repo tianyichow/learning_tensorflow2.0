{
 "cells": [
  {
   "cell_type": "code",
   "execution_count": 1,
   "metadata": {},
   "outputs": [
    {
     "name": "stdout",
     "output_type": "stream",
     "text": [
      "2.0.0-beta1\n",
      "sys.version_info(major=3, minor=6, micro=8, releaselevel='final', serial=0)\n",
      "matplotlib 3.1.1\n",
      "numpy 1.16.4\n",
      "pandas 0.24.2\n",
      "sklearn 0.21.2\n",
      "tensorflow 2.0.0-beta1\n",
      "tensorflow.python.keras.api._v2.keras 2.2.4-tf\n"
     ]
    }
   ],
   "source": [
    "import matplotlib as mpl\n",
    "import matplotlib.pyplot as plt\n",
    "%matplotlib inline\n",
    "import numpy as np\n",
    "import pandas as pd\n",
    "import sklearn\n",
    "import os\n",
    "import sys\n",
    "import time\n",
    "import tensorflow as tf\n",
    "from tensorflow import keras\n",
    "\n",
    "print (tf.__version__)\n",
    "print (sys.version_info)\n",
    "for module in mpl, np, pd, sklearn, tf, keras:\n",
    "    print (module.__name__, module.__version__)"
   ]
  },
  {
   "cell_type": "code",
   "execution_count": 5,
   "metadata": {},
   "outputs": [
    {
     "name": "stdout",
     "output_type": "stream",
     "text": [
      "[b'machine learning', b'cc150']\n",
      "value: \"machine learning\"\n",
      "value: \"cc150\"\n",
      "\n",
      "value: 1.5\n",
      "value: 2.299999952316284\n",
      "value: 3.5\n",
      "value: 4.400000095367432\n",
      "\n",
      "value: 11\n",
      "value: 12\n",
      "value: 13\n",
      "value: 14\n",
      "\n",
      "feature {\n",
      "  key: \"age\"\n",
      "  value {\n",
      "    int64_list {\n",
      "      value: 11\n",
      "      value: 12\n",
      "      value: 13\n",
      "      value: 14\n",
      "    }\n",
      "  }\n",
      "}\n",
      "feature {\n",
      "  key: \"favorite_books\"\n",
      "  value {\n",
      "    bytes_list {\n",
      "      value: \"machine learning\"\n",
      "      value: \"cc150\"\n",
      "    }\n",
      "  }\n",
      "}\n",
      "feature {\n",
      "  key: \"hours\"\n",
      "  value {\n",
      "    float_list {\n",
      "      value: 1.5\n",
      "      value: 2.299999952316284\n",
      "      value: 3.5\n",
      "      value: 4.400000095367432\n",
      "    }\n",
      "  }\n",
      "}\n",
      "\n"
     ]
    }
   ],
   "source": [
    "# tfrecord 文件格式\n",
    "# -> tf.train.Example\n",
    "# 每个example 都是 tf.train.Features -> dict形式 {\"key\": tf.train.Feature}\n",
    "#      tf.train.Feature -> tf.train.ByteList/FloatList/Int64List\n",
    "'''\n",
    "tfrecord文件格式:\n",
    "    tf.train.Example{\n",
    "        tf.train.Features{\n",
    "            key:tf.train.Feature{\n",
    "                tf.rain.ByteList/FloatList/Int64List\n",
    "            }\n",
    "        }\n",
    "    }\n",
    "'''\n",
    "\n",
    "\n",
    "favorite_books = [name.encode('utf-8') \n",
    "                for name in [\"machine learning\", \"cc150\"]]\n",
    "print(favorite_books)\n",
    "favorite_books_bytelist = tf.train.BytesList(value = favorite_books)\n",
    "print (favorite_books_bytelist)\n",
    "\n",
    "\n",
    "hours_floatlist = tf.train.FloatList(value =[1.5, 2.3, 3.5, 4.4])   #精度问题\n",
    "print (hours_floatlist)\n",
    "\n",
    "age_int64list = tf.train.Int64List(value = [11,12,13,14])\n",
    "print (age_int64list)\n",
    "\n",
    "features = tf.train.Features(\n",
    "        feature = {\n",
    "            \"favorite_books\": tf.train.Feature(\n",
    "                bytes_list = favorite_books_bytelist),\n",
    "            \"hours\": tf.train.Feature(\n",
    "                float_list=hours_floatlist),\n",
    "            \"age\": tf.train.Feature(\n",
    "                int64_list = age_int64list),\n",
    "        }\n",
    ")\n",
    "print (features)"
   ]
  },
  {
   "cell_type": "code",
   "execution_count": 36,
   "metadata": {},
   "outputs": [
    {
     "name": "stdout",
     "output_type": "stream",
     "text": [
      "features {\n",
      "  feature {\n",
      "    key: \"age\"\n",
      "    value {\n",
      "      int64_list {\n",
      "        value: 11\n",
      "        value: 12\n",
      "        value: 13\n",
      "        value: 14\n",
      "      }\n",
      "    }\n",
      "  }\n",
      "  feature {\n",
      "    key: \"favorite_books\"\n",
      "    value {\n",
      "      bytes_list {\n",
      "        value: \"machine learning\"\n",
      "        value: \"cc150\"\n",
      "      }\n",
      "    }\n",
      "  }\n",
      "  feature {\n",
      "    key: \"hours\"\n",
      "    value {\n",
      "      float_list {\n",
      "        value: 1.5\n",
      "        value: 2.299999952316284\n",
      "        value: 3.5\n",
      "        value: 4.400000095367432\n",
      "      }\n",
      "    }\n",
      "  }\n",
      "}\n",
      "\n"
     ]
    }
   ],
   "source": [
    "example = tf.train.Example(features = features)\n",
    "print (example)"
   ]
  },
  {
   "cell_type": "code",
   "execution_count": 37,
   "metadata": {},
   "outputs": [
    {
     "name": "stdout",
     "output_type": "stream",
     "text": [
      "b'\\n_\\n-\\n\\x0efavorite_books\\x12\\x1b\\n\\x19\\n\\x10machine learning\\n\\x05cc150\\n\\x0f\\n\\x03age\\x12\\x08\\x1a\\x06\\n\\x04\\x0b\\x0c\\r\\x0e\\n\\x1d\\n\\x05hours\\x12\\x14\\x12\\x12\\n\\x10\\x00\\x00\\xc0?33\\x13@\\x00\\x00`@\\xcd\\xcc\\x8c@'\n"
     ]
    }
   ],
   "source": [
    "serialized_example = example.SerializeToString()\n",
    "print (serialized_example)"
   ]
  },
  {
   "cell_type": "code",
   "execution_count": 41,
   "metadata": {},
   "outputs": [],
   "source": [
    "output_path = 'tfrecord_basic'\n",
    "if not os.path.exists(output_path):\n",
    "    os.mkdir(output_path)\n",
    "filename = 'test.tf.records'\n",
    "filename_fullpath = os.path.join(output_path,filename)\n",
    "#print (filename_fullpath)\n",
    "with tf.io.TFRecordWriter(filename_fullpath) as writer:\n",
    "    for i in range(3):\n",
    "        writer.write(serialized_example)"
   ]
  },
  {
   "cell_type": "code",
   "execution_count": 44,
   "metadata": {},
   "outputs": [
    {
     "name": "stdout",
     "output_type": "stream",
     "text": [
      "tf.Tensor(b'\\n_\\n-\\n\\x0efavorite_books\\x12\\x1b\\n\\x19\\n\\x10machine learning\\n\\x05cc150\\n\\x0f\\n\\x03age\\x12\\x08\\x1a\\x06\\n\\x04\\x0b\\x0c\\r\\x0e\\n\\x1d\\n\\x05hours\\x12\\x14\\x12\\x12\\n\\x10\\x00\\x00\\xc0?33\\x13@\\x00\\x00`@\\xcd\\xcc\\x8c@', shape=(), dtype=string)\n",
      "\n",
      "\n",
      "tf.Tensor(b'\\n_\\n-\\n\\x0efavorite_books\\x12\\x1b\\n\\x19\\n\\x10machine learning\\n\\x05cc150\\n\\x0f\\n\\x03age\\x12\\x08\\x1a\\x06\\n\\x04\\x0b\\x0c\\r\\x0e\\n\\x1d\\n\\x05hours\\x12\\x14\\x12\\x12\\n\\x10\\x00\\x00\\xc0?33\\x13@\\x00\\x00`@\\xcd\\xcc\\x8c@', shape=(), dtype=string)\n",
      "\n",
      "\n",
      "tf.Tensor(b'\\n_\\n-\\n\\x0efavorite_books\\x12\\x1b\\n\\x19\\n\\x10machine learning\\n\\x05cc150\\n\\x0f\\n\\x03age\\x12\\x08\\x1a\\x06\\n\\x04\\x0b\\x0c\\r\\x0e\\n\\x1d\\n\\x05hours\\x12\\x14\\x12\\x12\\n\\x10\\x00\\x00\\xc0?33\\x13@\\x00\\x00`@\\xcd\\xcc\\x8c@', shape=(), dtype=string)\n",
      "\n",
      "\n"
     ]
    }
   ],
   "source": [
    "dataset = tf.data.TFRecordDataset([filename_fullpath]) #dataset 读取后变为tensor，内容为 serilized_example\n",
    "for serialized_example_tensor  in dataset:\n",
    "    print (serialized_example_tensor)\n",
    "    print ('\\n')"
   ]
  },
  {
   "cell_type": "code",
   "execution_count": 59,
   "metadata": {},
   "outputs": [
    {
     "name": "stdout",
     "output_type": "stream",
     "text": [
      "tf.Tensor([1.5 2.3 3.5 4.4], shape=(4,), dtype=float32) \n",
      "\n",
      "tf.Tensor([1.5 2.3 3.5 4.4], shape=(4,), dtype=float32) \n",
      "\n",
      "tf.Tensor([1.5 2.3 3.5 4.4], shape=(4,), dtype=float32) \n",
      "\n"
     ]
    }
   ],
   "source": [
    "\"\"\"\n",
    "key:value定义的expected_features\n",
    "tf.io.VarLenFeature(): 读取的类型定义\n",
    "\n",
    "\"\"\"\n",
    "\n",
    "expected_features = {\n",
    "    \"favorite_books\": tf.io.VarLenFeature(dtype = tf.string),\n",
    "    \"hours\": tf.io.VarLenFeature(dtype = tf.float32),\n",
    "    \"age\" : tf.io.VarLenFeature(dtype= tf.int64),\n",
    "}\n",
    "\n",
    "for serialized_example_tensor in dataset:\n",
    "    example = tf.io.parse_single_example(\n",
    "    serialized_example_tensor,\n",
    "    expected_features)\n",
    "    print (tf.sparse.to_dense(example[\"hours\"],default_value=0.0),\"\\n\") #sparse 转 denses需要填默认值\n",
    "    "
   ]
  },
  {
   "cell_type": "code",
   "execution_count": 64,
   "metadata": {},
   "outputs": [
    {
     "name": "stdout",
     "output_type": "stream",
     "text": [
      "done\n"
     ]
    }
   ],
   "source": [
    "## zip压缩\n",
    "filename_fullpath_zip = filename_fullpath+'.zip'\n",
    "options = tf.io.TFRecordOptions(compression_type= 'GZIP') #\n",
    "with tf.io.TFRecordWriter(filename_fullpath_zip, \"GZIP\") as writer:\n",
    "    for i in range (3):\n",
    "        writer.write(serialized_example)\n",
    "print (\"done\")"
   ]
  },
  {
   "cell_type": "code",
   "execution_count": null,
   "metadata": {},
   "outputs": [],
   "source": []
  },
  {
   "cell_type": "code",
   "execution_count": 68,
   "metadata": {},
   "outputs": [
    {
     "name": "stdout",
     "output_type": "stream",
     "text": [
      "machine learning\n",
      "cc150\n",
      "machine learning\n",
      "cc150\n",
      "machine learning\n",
      "cc150\n"
     ]
    }
   ],
   "source": [
    "dataset_zip = tf.data.TFRecordDataset([filename_fullpath_zip],compression_type=\"GZIP\")\n",
    "for serialized_example_tensor in dataset_zip:\n",
    "    example = tf.io.parse_single_example(\n",
    "        serialized_example_tensor,\n",
    "        expected_features)\n",
    "    books = tf.sparse.to_dense(example[\"favorite_books\"],default_value=b\"\")\n",
    "    for book in books:\n",
    "        print (book.numpy().decode(\"UTF-8\"))"
   ]
  },
  {
   "cell_type": "code",
   "execution_count": 11,
   "metadata": {},
   "outputs": [
    {
     "data": {
      "text/plain": [
       "\u001b[0;31mInit signature:\u001b[0m \u001b[0mtf\u001b[0m\u001b[0;34m.\u001b[0m\u001b[0mtrain\u001b[0m\u001b[0;34m.\u001b[0m\u001b[0mExample\u001b[0m\u001b[0;34m(\u001b[0m\u001b[0mself\u001b[0m\u001b[0;34m,\u001b[0m \u001b[0;34m/\u001b[0m\u001b[0;34m,\u001b[0m \u001b[0;34m*\u001b[0m\u001b[0margs\u001b[0m\u001b[0;34m,\u001b[0m \u001b[0;34m**\u001b[0m\u001b[0mkwargs\u001b[0m\u001b[0;34m)\u001b[0m\u001b[0;34m\u001b[0m\u001b[0;34m\u001b[0m\u001b[0m\n",
       "\u001b[0;31mDocstring:\u001b[0m      A ProtocolMessage\n",
       "\u001b[0;31mFile:\u001b[0m           /anaconda3/envs/tylab/lib/python3.6/site-packages/tensorflow/core/example/example_pb2.py\n",
       "\u001b[0;31mType:\u001b[0m           GeneratedProtocolMessageType\n",
       "\u001b[0;31mSubclasses:\u001b[0m     \n"
      ]
     },
     "metadata": {},
     "output_type": "display_data"
    }
   ],
   "source": [
    "tf.train.Example?"
   ]
  },
  {
   "cell_type": "code",
   "execution_count": null,
   "metadata": {},
   "outputs": [],
   "source": []
  }
 ],
 "metadata": {
  "kernelspec": {
   "display_name": "Python 3",
   "language": "python",
   "name": "python3"
  },
  "language_info": {
   "codemirror_mode": {
    "name": "ipython",
    "version": 3
   },
   "file_extension": ".py",
   "mimetype": "text/x-python",
   "name": "python",
   "nbconvert_exporter": "python",
   "pygments_lexer": "ipython3",
   "version": "3.6.8"
  }
 },
 "nbformat": 4,
 "nbformat_minor": 2
}
